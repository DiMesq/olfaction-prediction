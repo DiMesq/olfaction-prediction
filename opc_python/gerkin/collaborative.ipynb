{
 "cells": [
  {
   "cell_type": "markdown",
   "metadata": {},
   "source": [
    "### Preliminaries"
   ]
  },
  {
   "cell_type": "code",
   "execution_count": 1,
   "metadata": {
    "collapsed": false
   },
   "outputs": [],
   "source": [
    "# Show all figures inline.  \n",
    "%matplotlib inline\n",
    "\n",
    "# Add olfaction-prediction to the Python path.  \n",
    "import os\n",
    "import sys\n",
    "curr_path = os.getcwd()\n",
    "gerkin_path = os.path.split(curr_path)[0]\n",
    "olfaction_prediction_path = os.path.split(gerkin_path)[0]\n",
    "sys.path.append(olfaction_prediction_path)\n",
    "import opc_python\n",
    "\n",
    "# Import numerical libraries.  \n",
    "import numpy as np\n",
    "import matplotlib.pyplot as plt"
   ]
  },
  {
   "cell_type": "code",
   "execution_count": 2,
   "metadata": {
    "collapsed": false
   },
   "outputs": [],
   "source": [
    "# Import generic utility modules I wrote to load the data from the tab-delimited text files and to score predictions.  \n",
    "from opc_python.utils import loading, scoring\n",
    "\n",
    "# Import the modules I wrote for actually shaping and fitting the data to the model.  \n",
    "from opc_python.gerkin import dream,fit1,fit2,params"
   ]
  },
  {
   "cell_type": "code",
   "execution_count": 3,
   "metadata": {
    "collapsed": false
   },
   "outputs": [
    {
     "name": "stdout",
     "output_type": "stream",
     "text": [
      "['Compound Identifier', 'Odor', 'Replicate', 'Intensity', 'Dilution', 'subject #', 'INTENSITY/STRENGTH', 'VALENCE/PLEASANTNESS', 'BAKERY', 'SWEET', 'FRUIT', 'FISH', 'GARLIC', 'SPICES', 'COLD', 'SOUR', 'BURNT', 'ACID', 'WARM', 'MUSKY', 'SWEATY', 'AMMONIA/URINOUS', 'DECAYED', 'WOOD', 'GRASS', 'FLOWER', 'CHEMICAL']\n"
     ]
    }
   ],
   "source": [
    "# Load the perceptual descriptors data.  \n",
    "perceptual_headers, perceptual_obs_data = loading.load_perceptual_data('training')\n",
    "loading.format_leaderboard_perceptual_data()\n",
    "# Show the perceptual metadata types and perceptual descriptor names.\n",
    "print(perceptual_headers)"
   ]
  },
  {
   "cell_type": "code",
   "execution_count": 4,
   "metadata": {
    "collapsed": false
   },
   "outputs": [
    {
     "name": "stdout",
     "output_type": "stream",
     "text": [
      "['126', '4-Hydroxybenzaldehyde', False, 'high', '1/10', '1', 37, 60, 0, 72, 0, 0, 0, 0, 0, 0, 0, 0, 0, 0, 0, 0, 0, 0, 0, 0, 0]\n"
     ]
    }
   ],
   "source": [
    "# Show the metadata and perceptual descriptor values for the first compound.\n",
    "print(perceptual_obs_data[1])"
   ]
  },
  {
   "cell_type": "code",
   "execution_count": 5,
   "metadata": {
    "collapsed": false
   },
   "outputs": [
    {
     "name": "stdout",
     "output_type": "stream",
     "text": [
      "There are 21 different perceptual descriptors and 49 different subjects\n"
     ]
    }
   ],
   "source": [
    "num_descriptors = len(perceptual_headers[6:])\n",
    "num_subjects = 49\n",
    "print('There are %d different perceptual descriptors and %d different subjects' % (num_descriptors,num_subjects))"
   ]
  },
  {
   "cell_type": "code",
   "execution_count": 6,
   "metadata": {
    "collapsed": false
   },
   "outputs": [
    {
     "name": "stdout",
     "output_type": "stream",
     "text": [
      "First ten molecular descriptor types are ['CID', 'complexity from pubmed', 'MW', 'AMW', 'Sv', 'Se', 'Sp', 'Si', 'Mv', 'Me']\n",
      "First ten descriptor values for the first compound are ['126', 93.1, 122.13, 8.142, 10.01, 15.305, 10.193, 16.664, 0.667, 1.02]\n",
      "We have molecular descriptors for 476 unique molecules\n"
     ]
    }
   ],
   "source": [
    "# Load the molecular descriptors data.  \n",
    "molecular_headers, molecular_data = loading.load_molecular_data()\n",
    "print(\"First ten molecular descriptor types are %s\" % molecular_headers[:10])\n",
    "print(\"First ten descriptor values for the first compound are %s\" % molecular_data[0][:10])\n",
    "total_size = len(set([int(row[0]) for row in molecular_data]))\n",
    "print(\"We have molecular descriptors for %d unique molecules\" % total_size)"
   ]
  },
  {
   "cell_type": "code",
   "execution_count": 7,
   "metadata": {
    "collapsed": false
   },
   "outputs": [
    {
     "name": "stdout",
     "output_type": "stream",
     "text": [
      "We have perceptual data for 338 unique molecules\n",
      "138 are left out for testing in the competition; half of these (69) are used for the leaderboard.\n"
     ]
    }
   ],
   "source": [
    "training_size = len(set([int(row[0]) for row in perceptual_obs_data]))\n",
    "print(\"We have perceptual data for %d unique molecules\" % training_size)\n",
    "remaining_size = total_size - training_size\n",
    "print (\"%d are left out for testing in the competition; half of these (%d) are used for the leaderboard.\" \\\n",
    "       % (remaining_size,remaining_size/2))"
   ]
  },
  {
   "cell_type": "code",
   "execution_count": 8,
   "metadata": {
    "collapsed": false
   },
   "outputs": [
    {
     "name": "stdout",
     "output_type": "stream",
     "text": [
      "There are 35084 rows in the perceptual data set (at least one for each subject and molecule)\n",
      "1960 of these are replicates (same subject and molecules)\n"
     ]
    }
   ],
   "source": [
    "print(\"There are %d rows in the perceptual data set (at least one for each subject and molecule)\" % len(perceptual_obs_data))\n",
    "print(\"%d of these are replicates (same subject and molecules)\" % sum([x[2] for x in perceptual_obs_data]))"
   ]
  },
  {
   "cell_type": "code",
   "execution_count": 9,
   "metadata": {
    "collapsed": false
   },
   "outputs": [],
   "source": [
    "all_CIDs = sorted(loading.get_CIDs('training')+loading.get_CIDs('leaderboard')+loading.get_CIDs('testset'))\n",
    "DATA = '/Users/rgerkin/Dropbox/science/olfaction-prediction/data/'\n",
    "import pandas"
   ]
  },
  {
   "cell_type": "code",
   "execution_count": 10,
   "metadata": {
    "collapsed": false
   },
   "outputs": [
    {
     "data": {
      "text/plain": [
       "(476, 62)"
      ]
     },
     "execution_count": 10,
     "metadata": {},
     "output_type": "execute_result"
    }
   ],
   "source": [
    "episuite = pandas.read_table('%s/DREAM_episuite_descriptors.txt' % DATA)\n",
    "episuite.iloc[:,49] = 1*(episuite.iloc[:,49]=='YES ')\n",
    "episuite.iloc[:,49]\n",
    "episuite = episuite.iloc[:,2:].as_matrix()\n",
    "episuite.shape"
   ]
  },
  {
   "cell_type": "code",
   "execution_count": 11,
   "metadata": {
    "collapsed": false
   },
   "outputs": [
    {
     "data": {
      "text/plain": [
       "(476, 11786)"
      ]
     },
     "execution_count": 11,
     "metadata": {},
     "output_type": "execute_result"
    }
   ],
   "source": [
    "verbal = pandas.read_table('%s/name_features.txt' % DATA, sep='\\t', header=None)\n",
    "verbal = verbal.as_matrix()[:,1:]\n",
    "verbal.shape"
   ]
  },
  {
   "cell_type": "code",
   "execution_count": 12,
   "metadata": {
    "collapsed": false
   },
   "outputs": [
    {
     "data": {
      "text/plain": [
       "(476, 2437)"
      ]
     },
     "execution_count": 12,
     "metadata": {},
     "output_type": "execute_result"
    }
   ],
   "source": [
    "morgan = pandas.read_csv('%s/morgan_sim.csv' % DATA)\n",
    "morgan = morgan.as_matrix()[:,1:]\n",
    "morgan.shape"
   ]
  },
  {
   "cell_type": "code",
   "execution_count": 13,
   "metadata": {
    "collapsed": false
   },
   "outputs": [],
   "source": [
    "with open('%s/derived/nspdk_r3_d4_unaug.svm' % DATA) as f:\n",
    "    nspdk_dict = {}\n",
    "    i = 0\n",
    "    while True:\n",
    "        x = f.readline()\n",
    "        if(len(x)):\n",
    "            key_vals = x.split(' ')[1:]\n",
    "            for key_val in key_vals:\n",
    "                key,val = key_val.split(':')\n",
    "                if key in nspdk_dict:\n",
    "                    nspdk_dict[key][all_CIDs[i]] = val\n",
    "                else:\n",
    "                    nspdk_dict[key] = {all_CIDs[i]:val}\n",
    "            i+=1\n",
    "            if i == len(all_CIDs):\n",
    "                break\n",
    "        else:\n",
    "            break\n",
    "nspdk_dict = {key:value for key,value in nspdk_dict.items() if len(value)>1}"
   ]
  },
  {
   "cell_type": "code",
   "execution_count": 14,
   "metadata": {
    "collapsed": false
   },
   "outputs": [
    {
     "data": {
      "text/plain": [
       "(476, 6163)"
      ]
     },
     "execution_count": 14,
     "metadata": {},
     "output_type": "execute_result"
    }
   ],
   "source": [
    "nspdk = np.zeros((len(all_CIDs),len(nspdk_dict)))\n",
    "for j,(feature,facts) in enumerate(nspdk_dict.items()):\n",
    "    for CID,value in facts.items():\n",
    "        i = all_CIDs.index(CID)\n",
    "        nspdk[i,j] = value\n",
    "nspdk.shape"
   ]
  },
  {
   "cell_type": "code",
   "execution_count": 15,
   "metadata": {
    "collapsed": false
   },
   "outputs": [
    {
     "data": {
      "text/plain": [
       "(476, 2437)"
      ]
     },
     "execution_count": 15,
     "metadata": {},
     "output_type": "execute_result"
    }
   ],
   "source": [
    "nspdk_gramian = pandas.read_table('%s/derived/nspdk_r3_d4_unaug_gramian.mtx' % DATA, delimiter=' ', header=None)\n",
    "nspdk_gramian = nspdk_gramian.as_matrix()[:len(all_CIDs),:]\n",
    "nspdk_gramian.shape"
   ]
  },
  {
   "cell_type": "code",
   "execution_count": 16,
   "metadata": {
    "collapsed": false
   },
   "outputs": [],
   "source": [
    "molecular_data_types = ['dragon','dragon+episuite+morgan+nspdk+gramian']\n",
    "molecular_data_extended = molecular_data.copy()\n",
    "mdx = molecular_data_extended\n",
    "for i,line in enumerate(molecular_data):\n",
    "    CID = int(line[0])\n",
    "    index = all_CIDs.index(CID)\n",
    "    mdx[i] = line + list(episuite[index]) + list(morgan[index]) + list(nspdk[index]) + list(nspdk_gramian[index])"
   ]
  },
  {
   "cell_type": "markdown",
   "metadata": {},
   "source": [
    "### Create Molecular Matrix"
   ]
  },
  {
   "cell_type": "code",
   "execution_count": 17,
   "metadata": {
    "collapsed": false
   },
   "outputs": [
    {
     "name": "stdout",
     "output_type": "stream",
     "text": [
      "There are now 676 molecular vectors of length 15970, one for each molecule and dilution\n",
      "The X matrix now has shape (676x13914) molecules by non-NaN good molecular descriptors\n",
      "There are now 69 molecular vectors of length 15970, one for each molecule and dilution\n",
      "The X matrix now has shape (69x13914) molecules by non-NaN good molecular descriptors\n",
      "There are now 69 molecular vectors of length 15970, one for each molecule and dilution\n",
      "The X matrix now has shape (69x13914) molecules by non-NaN good molecular descriptors\n",
      "There are now 69 molecular vectors of length 15970, one for each molecule and dilution\n",
      "The X matrix now has shape (69x13914) molecules by non-NaN good molecular descriptors\n",
      "There are now 69 molecular vectors of length 15970, one for each molecule and dilution\n",
      "The X matrix now has shape (69x13914) molecules by non-NaN good molecular descriptors\n",
      "There are now 814 molecular vectors of length 15970, one for each molecule and dilution\n",
      "The X matrix now has shape (814x13914) molecules by non-NaN good molecular descriptors\n"
     ]
    }
   ],
   "source": [
    "X_training,good1,good2,means,stds,imputer = dream.make_X(mdx,\"training\")\n",
    "X_leaderboard_other,good1,good2,means,stds,imputer = dream.make_X(mdx,\"leaderboard\",target_dilution='high',good1=good1,good2=good2,means=means,stds=stds)\n",
    "X_leaderboard_int,good1,good2,means,stds,imputer = dream.make_X(mdx,\"leaderboard\",target_dilution=-3,good1=good1,good2=good2,means=means,stds=stds)\n",
    "X_testset_other,good1,good2,means,stds,imputer = dream.make_X(mdx,\"testset\",target_dilution='high',good1=good1,good2=good2,means=means,stds=stds)\n",
    "X_testset_int,good1,good2,means,stds,imputer = dream.make_X(mdx,\"testset\",target_dilution=-3,good1=good1,good2=good2,means=means,stds=stds)\n",
    "X_all,good1,good2,means,stds,imputer = dream.make_X(mdx,['training','leaderboard'],good1=good1,good2=good2,means=means,stds=stds)"
   ]
  },
  {
   "cell_type": "code",
   "execution_count": 18,
   "metadata": {
    "collapsed": false
   },
   "outputs": [
    {
     "name": "stdout",
     "output_type": "stream",
     "text": [
      "Getting basic perceptual data...\n",
      "Flattening into vectors...\n",
      "Assembling into matrices...\n",
      "Y_obs['subject'] contains 49 matrices each with shape (676x21) (molecules by perceptual descriptors)\n",
      "The Y_obs['mean_std'] matrix has shape (676x42) (molecules by 2 x perceptual descriptors)\n",
      "Combining Y matrices...\n",
      "The Y['mean_std'] matrix now has shape (676x42) molecules by 2 x perceptual descriptors\n",
      "The Y['subject'] dict now has 49 matrices of shape (676x21) molecules by perceptual descriptors, one for each subject\n",
      "Getting basic perceptual data...\n",
      "Flattening into vectors...\n",
      "Assembling into matrices...\n",
      "Y_obs['subject'] contains 49 matrices each with shape (676x21) (molecules by perceptual descriptors)\n",
      "The Y_obs['mean_std'] matrix has shape (676x42) (molecules by 2 x perceptual descriptors)\n",
      "Combining Y matrices...\n",
      "The Y['mean_std'] matrix now has shape (676x42) molecules by 2 x perceptual descriptors\n",
      "The Y['subject'] dict now has 49 matrices of shape (676x21) molecules by perceptual descriptors, one for each subject\n"
     ]
    }
   ],
   "source": [
    "Y_training_imp,imputer = dream.make_Y_obs('training',target_dilution=None,imputer='median')\n",
    "Y_training_mask,imputer = dream.make_Y_obs('training',target_dilution=None,imputer='mask')"
   ]
  },
  {
   "cell_type": "code",
   "execution_count": 19,
   "metadata": {
    "collapsed": false
   },
   "outputs": [
    {
     "name": "stdout",
     "output_type": "stream",
     "text": [
      "Getting basic perceptual data...\n",
      "Flattening into vectors...\n",
      "Assembling into matrices...\n",
      "Y_obs['subject'] contains 49 matrices each with shape (69x21) (molecules by perceptual descriptors)\n",
      "The Y_obs['mean_std'] matrix has shape (69x42) (molecules by 2 x perceptual descriptors)\n",
      "Combining Y matrices...\n",
      "The Y['mean_std'] matrix now has shape (69x42) molecules by 2 x perceptual descriptors\n",
      "The Y['subject'] dict now has 49 matrices of shape (69x21) molecules by perceptual descriptors, one for each subject\n",
      "Getting basic perceptual data...\n",
      "Flattening into vectors...\n",
      "Assembling into matrices...\n",
      "Y_obs['subject'] contains 49 matrices each with shape (69x21) (molecules by perceptual descriptors)\n",
      "The Y_obs['mean_std'] matrix has shape (69x42) (molecules by 2 x perceptual descriptors)\n",
      "Combining Y matrices...\n",
      "The Y['mean_std'] matrix now has shape (69x42) molecules by 2 x perceptual descriptors\n",
      "The Y['subject'] dict now has 49 matrices of shape (69x21) molecules by perceptual descriptors, one for each subject\n"
     ]
    }
   ],
   "source": [
    "Y_leaderboard,imputer = dream.make_Y_obs('leaderboard',target_dilution='gold',imputer='mask')"
   ]
  },
  {
   "cell_type": "code",
   "execution_count": 20,
   "metadata": {
    "collapsed": false
   },
   "outputs": [
    {
     "name": "stdout",
     "output_type": "stream",
     "text": [
      "Getting basic perceptual data...\n",
      "Flattening into vectors...\n",
      "Assembling into matrices...\n",
      "Y_obs['subject'] contains 49 matrices each with shape (69x21) (molecules by perceptual descriptors)\n",
      "The Y_obs['mean_std'] matrix has shape (69x42) (molecules by 2 x perceptual descriptors)\n",
      "Combining Y matrices...\n",
      "The Y['mean_std'] matrix now has shape (69x42) molecules by 2 x perceptual descriptors\n",
      "The Y['subject'] dict now has 49 matrices of shape (69x21) molecules by perceptual descriptors, one for each subject\n",
      "Getting basic perceptual data...\n",
      "Flattening into vectors...\n",
      "Assembling into matrices...\n",
      "Y_obs['subject'] contains 49 matrices each with shape (69x21) (molecules by perceptual descriptors)\n",
      "The Y_obs['mean_std'] matrix has shape (69x42) (molecules by 2 x perceptual descriptors)\n",
      "Combining Y matrices...\n",
      "The Y['mean_std'] matrix now has shape (69x42) molecules by 2 x perceptual descriptors\n",
      "The Y['subject'] dict now has 49 matrices of shape (69x21) molecules by perceptual descriptors, one for each subject\n"
     ]
    }
   ],
   "source": [
    "Y_leaderboard_noimpute,_ = dream.make_Y_obs('leaderboard',target_dilution='gold',imputer=None)"
   ]
  },
  {
   "cell_type": "code",
   "execution_count": 21,
   "metadata": {
    "collapsed": false
   },
   "outputs": [
    {
     "name": "stdout",
     "output_type": "stream",
     "text": [
      "Getting basic perceptual data...\n",
      "Flattening into vectors...\n",
      "Assembling into matrices...\n",
      "Y_obs['subject'] contains 49 matrices each with shape (676x21) (molecules by perceptual descriptors)\n",
      "The Y_obs['mean_std'] matrix has shape (676x42) (molecules by 2 x perceptual descriptors)\n",
      "Getting basic perceptual data...\n",
      "Flattening into vectors...\n",
      "Assembling into matrices...\n",
      "Y_obs['subject'] contains 49 matrices each with shape (138x21) (molecules by perceptual descriptors)\n",
      "The Y_obs['mean_std'] matrix has shape (138x42) (molecules by 2 x perceptual descriptors)\n",
      "Combining Y matrices...\n",
      "The Y['mean_std'] matrix now has shape (814x42) molecules by 2 x perceptual descriptors\n",
      "The Y['subject'] dict now has 49 matrices of shape (814x21) molecules by perceptual descriptors, one for each subject\n"
     ]
    }
   ],
   "source": [
    "Y_all_imp,imputer = dream.make_Y_obs(['training','leaderboard'],target_dilution=None,imputer='median')"
   ]
  },
  {
   "cell_type": "code",
   "execution_count": 22,
   "metadata": {
    "collapsed": false
   },
   "outputs": [
    {
     "name": "stdout",
     "output_type": "stream",
     "text": [
      "Getting basic perceptual data...\n",
      "Flattening into vectors...\n",
      "Assembling into matrices...\n",
      "Y_obs['subject'] contains 49 matrices each with shape (676x21) (molecules by perceptual descriptors)\n",
      "The Y_obs['mean_std'] matrix has shape (676x42) (molecules by 2 x perceptual descriptors)\n",
      "Getting basic perceptual data...\n",
      "Flattening into vectors...\n",
      "Assembling into matrices...\n",
      "Y_obs['subject'] contains 49 matrices each with shape (138x21) (molecules by perceptual descriptors)\n",
      "The Y_obs['mean_std'] matrix has shape (138x42) (molecules by 2 x perceptual descriptors)\n",
      "Combining Y matrices...\n",
      "The Y['mean_std'] matrix now has shape (814x42) molecules by 2 x perceptual descriptors\n",
      "The Y['subject'] dict now has 49 matrices of shape (814x21) molecules by perceptual descriptors, one for each subject\n"
     ]
    }
   ],
   "source": [
    "Y_all_mask,imputer = dream.make_Y_obs(['training','leaderboard'],target_dilution=None,imputer='mask')"
   ]
  },
  {
   "cell_type": "markdown",
   "metadata": {},
   "source": [
    "### Data preparation"
   ]
  },
  {
   "cell_type": "code",
   "execution_count": 23,
   "metadata": {
    "collapsed": false
   },
   "outputs": [
    {
     "data": {
      "image/png": "[encoded data removed]",
      "text/plain": [
       "<matplotlib.figure.Figure at 0x10a692dd8>"
      ]
     },
     "metadata": {},
     "output_type": "display_data"
    },
    {
     "data": {
      "image/png": "[encoded data removed]",
      "text/plain": [
       "<matplotlib.figure.Figure at 0x10a6da8d0>"
      ]
     },
     "metadata": {},
     "output_type": "display_data"
    }
   ],
   "source": [
    "# Show the range of values for the molecular and perceptual descriptors.  \n",
    "plt.hist(X_training.ravel())\n",
    "plt.yscale('log')\n",
    "plt.ylabel('Count')\n",
    "plt.xlabel('Cube root transformed, N(0,1) normalized molecular descriptor values')\n",
    "plt.figure()\n",
    "plt.hist(Y_training_imp['mean_std'][:21].ravel())\n",
    "plt.yscale('log')\n",
    "plt.ylabel('Count')\n",
    "_ = plt.xlabel('Perceptual descriptor subject-averaged values')"
   ]
  },
  {
   "cell_type": "code",
   "execution_count": 24,
   "metadata": {
    "collapsed": false
   },
   "outputs": [
    {
     "data": {
      "text/plain": [
       "<matplotlib.collections.PathCollection at 0x11040a128>"
      ]
     },
     "execution_count": 24,
     "metadata": {},
     "output_type": "execute_result"
    },
    {
     "data": {
      "image/png": "[encoded data removed]",
      "text/plain": [
       "<matplotlib.figure.Figure at 0x1143e3518>"
      ]
     },
     "metadata": {},
     "output_type": "display_data"
    }
   ],
   "source": [
    "# A typical relationship between the mean and the variance.  \n",
    "plt.scatter(Y_all_mask['mean_std'][:,0],Y_all_mask['mean_std'][:,21])"
   ]
  },
  {
   "cell_type": "markdown",
   "metadata": {},
   "source": [
    "## Fitting and Generating Submission Files"
   ]
  },
  {
   "cell_type": "code",
   "execution_count": 25,
   "metadata": {
    "collapsed": false
   },
   "outputs": [
    {
     "data": {
      "image/png": "[encoded data removed]",
      "text/plain": [
       "<matplotlib.figure.Figure at 0x109b930b8>"
      ]
     },
     "metadata": {},
     "output_type": "display_data"
    }
   ],
   "source": [
    "def f_transformation(x, k0=1.0, k1=1.0):\n",
    "    return 100*(k0*(x/100)**(k1*0.5) - k0*(x/100)**(k1*2))\n",
    "    \n",
    "def sse(x, mean, stdev):\n",
    "    predicted_stdev = f_transformation(mean, k0=x[0], k1=x[1])\n",
    "    #predicted_mean = f_transformation2(predicted[i], k0=x[0], k1=x[1], k2=x[2])\n",
    "    sse = np.sum((predicted_stdev - stdev)**2)\n",
    "    return sse\n",
    "    \n",
    "fig,axes = plt.subplots(7,3,figsize=(7,12))\n",
    "ax = axes.flat\n",
    "trans_params = {col:None for col in range(21)}\n",
    "from scipy.optimize import minimize\n",
    "for col in range(len(ax)):    \n",
    "    Y_mean = Y_all_mask['mean_std'][:,col]\n",
    "    Y_stdev = Y_all_mask['mean_std'][:,col+21]\n",
    "    x = [1.0,1.0]\n",
    "    res = minimize(sse, x, args=(Y_mean,Y_stdev), method='L-BFGS-B')\n",
    "    trans_params[col] = res.x # We will use these for our transformations.  \n",
    "    ax[col].scatter(Y_mean,Y_stdev,s=0.1)\n",
    "    x_ = np.linspace(0,100,100)\n",
    "    ax[col].plot(x_,f_transformation(x_, k0=res.x[0], k1=res.x[1]))#, k2=res.x[2]))"
   ]
  },
  {
   "cell_type": "code",
   "execution_count": 92,
   "metadata": {
    "collapsed": true
   },
   "outputs": [],
   "source": [
    "n_estimators = 1000\n",
    "cols = range(42)\n",
    "def get_params(i):\n",
    "    return {col:params.best[col][i] for col in cols}\n",
    "\n",
    "use_et = get_params(0)\n",
    "max_features = get_params(1)\n",
    "max_depth = get_params(2)\n",
    "min_samples_leaf = get_params(3)\n",
    "trans_weight = get_params(4)\n",
    "regularize = get_params(4)\n",
    "use_mask = get_params(5)\n",
    "for col in range(21):\n",
    "    trans_weight[col] = trans_weight[col+21]"
   ]
  },
  {
   "cell_type": "code",
   "execution_count": 68,
   "metadata": {
    "collapsed": false
   },
   "outputs": [
    {
     "name": "stdout",
     "output_type": "stream",
     "text": [
      "0\n",
      "1\n",
      "2\n",
      "3\n",
      "4\n",
      "5\n",
      "6\n",
      "7\n",
      "8\n",
      "9\n",
      "10\n",
      "11\n",
      "12\n",
      "13\n",
      "14\n",
      "15\n",
      "16\n",
      "17\n",
      "18\n",
      "19\n",
      "20\n",
      "21\n",
      "22\n",
      "23\n",
      "24\n",
      "25\n",
      "26\n",
      "27\n",
      "28\n",
      "29\n",
      "30\n",
      "31\n",
      "32\n",
      "33\n",
      "34\n",
      "35\n",
      "36\n",
      "37\n",
      "38\n",
      "39\n",
      "40\n",
      "41\n",
      "For subchallenge 2:\n",
      "\tScore = 9.71\n",
      "\tint_mean = 1.000\n",
      "\tint_sigma = 0.936\n",
      "\tple_mean = 0.699\n",
      "\tple_sigma = 0.240\n",
      "\tdec_mean = 0.516\n",
      "\tdec_sigma = 0.420\n"
     ]
    }
   ],
   "source": [
    "# Fit training data.  Ignoring warning that arises if too few trees are used.  \n",
    "rfcs_leaderboard,score,rs = fit2.rfc_final(X_training,Y_training_imp['mean_std'],\n",
    "                                           Y_training_mask['mean_std'],max_features,\n",
    "                                           min_samples_leaf,max_depth,use_et,use_mask,\n",
    "                                           trans_weight,trans_params,\n",
    "                                           n_estimators=n_estimators)"
   ]
  },
  {
   "cell_type": "code",
   "execution_count": 69,
   "metadata": {
    "collapsed": false
   },
   "outputs": [
    {
     "name": "stdout",
     "output_type": "stream",
     "text": [
      "Score: 8.991304; rs = 0.646,0.576,0.569,0.436,0.132,0.498\n",
      "Wrote to file with suffix \"1446286249\"\n"
     ]
    },
    {
     "data": {
      "text/plain": [
       "{'mean_std': array([[ 71.37426531,  41.48437755,   2.81302028, ...,   8.62841484,\n",
       "          13.39748908,  27.39827798],\n",
       "        [ 59.17583673,  44.88153061,   1.75245157, ...,   9.75540249,\n",
       "          15.78022703,  29.71372428],\n",
       "        [ 21.75810204,  38.11428571,   1.84919165, ...,   8.01600097,\n",
       "          10.26052088,  24.65698316],\n",
       "        ..., \n",
       "        [ 35.76002041,  43.43406122,   1.85339762, ...,  15.45011246,\n",
       "          16.27906011,  23.01509148],\n",
       "        [ 40.61036735,  45.11128571,   2.67790415, ...,  10.26927896,\n",
       "          20.513681  ,  23.91949256],\n",
       "        [ 33.09271429,  56.0882449 ,   2.04220163, ...,  25.6146265 ,\n",
       "          18.56653544,  24.24662054]]), 'subject': {}}"
      ]
     },
     "execution_count": 69,
     "metadata": {},
     "output_type": "execute_result"
    }
   ],
   "source": [
    "loading.make_prediction_files(rfcs_leaderboard,X_leaderboard_int,X_leaderboard_other,\n",
    "                              'leaderboard',2,Y_test=Y_leaderboard_noimpute,\n",
    "                              write=True,trans_weight=trans_weight,trans_params=trans_params)"
   ]
  },
  {
   "cell_type": "code",
   "execution_count": null,
   "metadata": {
    "collapsed": false
   },
   "outputs": [],
   "source": [
    "rfcs,score,rs = fit2.rfc_final(X_all,Y_all_imp['mean_std'],Y_all_mask['mean_std'],\n",
    "                               max_features,min_samples_leaf,max_depth,use_et,use_mask,\n",
    "                               trans_weight,trans_params,n_estimators=n_estimators)"
   ]
  },
  {
   "cell_type": "code",
   "execution_count": 71,
   "metadata": {
    "collapsed": false
   },
   "outputs": [
    {
     "name": "stdout",
     "output_type": "stream",
     "text": [
      "Wrote to file with suffix \"1446300940\"\n"
     ]
    },
    {
     "data": {
      "text/plain": [
       "{'mean_std': array([[ 21.5212449 ,  39.67705102,   1.90316735, ...,  10.20082525,\n",
       "          10.39524613,  31.58733494],\n",
       "        [ 28.02379592,  44.73617347,   2.0750604 , ...,   8.11174684,\n",
       "          10.2209698 ,  20.72358021],\n",
       "        [ 59.26867347,  30.53020408,   1.8075775 , ...,   8.07846887,\n",
       "          10.38745326,  25.86262462],\n",
       "        ..., \n",
       "        [ 52.92461224,  51.47581633,   2.29435162, ...,  33.66411719,\n",
       "          18.80143892,  20.72935382],\n",
       "        [ 32.9845102 ,  49.18562245,   2.00685376, ...,  14.8513966 ,\n",
       "          16.9114995 ,  23.20248081],\n",
       "        [ 23.30469388,  49.45347959,   1.8899173 , ...,  22.32860467,\n",
       "          22.23431678,  33.03462155]]), 'subject': {}}"
      ]
     },
     "execution_count": 71,
     "metadata": {},
     "output_type": "execute_result"
    }
   ],
   "source": [
    "loading.make_prediction_files(rfcs,X_testset_int,X_testset_other,'testset',2,write=True,\n",
    "                              trans_weight=trans_weight,trans_params=trans_params)"
   ]
  },
  {
   "cell_type": "code",
   "execution_count": 97,
   "metadata": {
    "collapsed": false,
    "scrolled": true
   },
   "outputs": [
    {
     "name": "stdout",
     "output_type": "stream",
     "text": [
      "1\n",
      "2\n",
      "3\n",
      "4\n",
      "5\n",
      "6\n",
      "7\n",
      "8\n",
      "9\n",
      "10\n",
      "11\n",
      "12\n",
      "13\n",
      "14\n",
      "15\n",
      "16\n",
      "17\n",
      "18\n",
      "19\n",
      "20\n",
      "21\n",
      "22\n",
      "23\n",
      "24\n",
      "25\n",
      "26\n",
      "27\n",
      "28\n",
      "29\n",
      "30\n",
      "31\n",
      "32\n",
      "33\n",
      "34\n",
      "35\n",
      "36\n",
      "37\n",
      "38\n",
      "39\n",
      "40\n",
      "41\n",
      "42\n",
      "43\n",
      "44\n",
      "45\n",
      "46\n",
      "47\n",
      "48\n",
      "49\n",
      "For subchallenge 1:\n",
      "\tScore = 34.24\n",
      "\tint = 0.843\n",
      "\tple = 0.350\n",
      "\tdec = 0.159\n"
     ]
    }
   ],
   "source": [
    "n_estimators = 100\n",
    "\n",
    "# Fit training data for subchallenge 1.  \n",
    "# Ignoring warning that arises if too few trees are used.  \n",
    "rfcs_leaderboard,score,rs = fit1.rfc_final(X_training,Y_training_imp['subject'],max_features,\n",
    "                                           min_samples_leaf,max_depth,use_et,\n",
    "                                           Y_test=Y_leaderboard_noimpute['subject'],\n",
    "                                           regularize=regularize,\n",
    "                                           n_estimators=n_estimators)"
   ]
  },
  {
   "cell_type": "code",
   "execution_count": 102,
   "metadata": {
    "collapsed": false
   },
   "outputs": [
    {
     "name": "stdout",
     "output_type": "stream",
     "text": [
      "Score: 26.610701; rs = 0.428,0.300,0.168\n",
      "Wrote to file with suffix \"1446361058\"\n"
     ]
    },
    {
     "data": {
      "text/plain": [
       "{'subject': {1: array([[ 61.52571429,  38.98571429,   2.22580878, ...,   1.1833913 ,\n",
       "            3.26311027,  15.73098165],\n",
       "         [ 58.27306122,  46.37285714,   1.45792691, ...,   1.44274672,\n",
       "            2.74011324,  12.21713042],\n",
       "         [ 23.53102041,  47.12071429,   1.84712711, ...,   1.37401704,\n",
       "            1.90863325,   3.99038286],\n",
       "         ..., \n",
       "         [ 33.79469388,  45.26857143,   1.38054872, ...,   4.43142016,\n",
       "            4.47421172,   6.10529865],\n",
       "         [ 39.85020408,  41.83214286,   5.2641683 , ...,   2.06083539,\n",
       "            7.41781768,  15.86989997],\n",
       "         [ 42.85102041,  51.28214286,   3.02592687, ...,  10.22138128,\n",
       "            5.26708216,  10.44196627]]),\n",
       "  2: array([[ 65.08571429,  50.53571429,   2.69711549, ...,   1.19356999,\n",
       "            3.2791037 ,  13.58606141],\n",
       "         [ 62.71306122,  44.90285714,   1.51955304, ...,   1.44292541,\n",
       "            3.02199986,  13.0644761 ],\n",
       "         [ 26.35102041,  38.90071429,   2.20776715, ...,   1.37419573,\n",
       "            1.92462669,   3.98033938],\n",
       "         ..., \n",
       "         [ 35.59469388,  46.94857143,   1.44217486, ...,   4.43159885,\n",
       "            4.49020516,   5.9353655 ],\n",
       "         [ 38.13020408,  49.90214286,   5.32579443, ...,   2.06101407,\n",
       "            7.43381111,  15.08989997],\n",
       "         [ 45.15102041,  59.50214286,   3.087553  , ...,  11.22155997,\n",
       "            5.28122551,  11.82843808]]),\n",
       "  3: array([[ 60.78571429,  44.05571429,   2.76517753, ...,   1.18624097,\n",
       "            7.24838636,  13.63220273],\n",
       "         [ 57.99306122,  52.07285714,   1.49087364, ...,   1.44559638,\n",
       "            7.73209885,  12.35713042],\n",
       "         [ 27.83102041,  36.87571429,   1.88007384, ...,   2.03686671,\n",
       "            4.57598592,   6.18038286],\n",
       "         ..., \n",
       "         [ 30.83469388,  41.92357143,   1.41349546, ...,   4.43426983,\n",
       "            6.53750384,   6.34651973],\n",
       "         [ 34.09020408,  46.60214286,   5.29711504, ...,   2.06368505,\n",
       "           10.10100441,  14.16112105],\n",
       "         [ 37.29102041,  52.34714286,   3.0588736 , ...,  10.22423095,\n",
       "           10.94702132,  10.38318735]]),\n",
       "  4: array([[ 61.50571429,  44.20571429,   2.25381705, ...,   1.66188393,\n",
       "           10.55414005,  16.60098165],\n",
       "         [ 66.25306122,  45.38285714,   1.48593518, ...,   1.45184279,\n",
       "            8.3347703 ,  14.14713042],\n",
       "         [ 27.13102041,  48.17071429,   1.87513538, ...,   1.38311311,\n",
       "            6.28812366,   3.87038286],\n",
       "         ..., \n",
       "         [ 40.61469388,  55.33357143,   1.408557  , ...,   4.77051623,\n",
       "           12.31079026,   7.49529865],\n",
       "         [ 34.43020408,  40.93214286,   5.29217657, ...,   2.06448444,\n",
       "           16.25569055,  19.09989997],\n",
       "         [ 43.65102041,  63.50714286,   3.05393514, ...,  10.23047736,\n",
       "           19.0442515 ,   9.60196627]]),\n",
       "  5: array([[ 62.48571429,  43.23071429,   2.56076455, ...,   1.1833913 ,\n",
       "            3.32285319,  13.43125992],\n",
       "         [ 60.43306122,  45.99785714,   1.46401561, ...,   1.44274672,\n",
       "            2.79985616,  12.43740868],\n",
       "         [ 19.63102041,  45.05071429,   1.85321581, ...,   1.37401704,\n",
       "            1.96837617,   6.5904948 ],\n",
       "         ..., \n",
       "         [ 31.39469388,  41.62357143,   1.38663743, ...,   4.43142016,\n",
       "            4.52732344,   5.89546497],\n",
       "         [ 34.43020408,  43.69214286,   5.27025701, ...,   2.16083539,\n",
       "            7.73531091,  14.19006629],\n",
       "         [ 40.11102041,  56.77214286,   3.6061894 , ...,  10.22138128,\n",
       "            5.32682508,   9.60224453]]),\n",
       "  6: array([[ 57.12571429,  37.78571429,   2.22385727, ...,   1.1833913 ,\n",
       "            3.27853275,  13.63098165],\n",
       "         [ 49.33306122,  44.72285714,   1.4559754 , ...,   1.44274672,\n",
       "            2.75553572,  11.64713042],\n",
       "         [ 21.43102041,  42.50071429,   1.8451756 , ...,   1.37401704,\n",
       "            1.92405573,   3.87038286],\n",
       "         ..., \n",
       "         [ 28.73469388,  44.68357143,   1.37859722, ...,   4.43142016,\n",
       "            4.4896342 ,   5.86529865],\n",
       "         [ 31.03020408,  44.17214286,   5.2622168 , ...,   2.06083539,\n",
       "            7.43324016,  14.48989997],\n",
       "         [ 34.35102041,  56.30714286,   3.02397537, ...,  10.72138128,\n",
       "            5.28250464,   9.60196627]]),\n",
       "  7: array([[ 58.92571429,  44.28071429,   2.22327987, ...,   1.1833913 ,\n",
       "            3.3085514 ,  13.22099566],\n",
       "         [ 66.37306122,  54.47285714,   1.45539799, ...,   1.44274672,\n",
       "            3.27507668,  12.22714443],\n",
       "         [ 22.01102041,  34.34071429,   1.84459819, ...,   1.37401704,\n",
       "            1.95407438,   3.87039686],\n",
       "         ..., \n",
       "         [ 44.69469388,  40.55857143,   1.37801981, ...,   4.43142016,\n",
       "            5.13550252,   6.41531266],\n",
       "         [ 37.87020408,  41.56214286,   5.26163939, ...,   2.06083539,\n",
       "            7.72378108,  16.11989997],\n",
       "         [ 39.15102041,  60.40214286,   3.02339796, ...,  10.98138128,\n",
       "            5.31252329,   9.60198028]]),\n",
       "  8: array([[ 64.80571429,  44.05571429,   2.25221958, ...,   1.1833913 ,\n",
       "            3.26907733,  12.74098165],\n",
       "         [ 63.91306122,  43.40285714,   1.48433771, ...,   1.44274672,\n",
       "            2.76347161,  11.38713042],\n",
       "         [ 24.17102041,  43.91071429,   1.87353791, ...,   1.37401704,\n",
       "            1.91460032,   3.87038286],\n",
       "         ..., \n",
       "         [ 37.95469388,  44.48857143,   1.40695953, ...,   4.43142016,\n",
       "            4.48017879,   8.43529865],\n",
       "         [ 33.19020408,  44.92214286,   5.29057911, ...,   2.90083539,\n",
       "            7.42378474,  14.15989997],\n",
       "         [ 44.49102041,  52.36214286,   3.05233768, ...,  12.22138128,\n",
       "            5.38935786,   9.60196627]]),\n",
       "  9: array([[ 58.46571429,  40.87571429,   2.23218433, ...,   1.26497176,\n",
       "            4.54077239,  12.74231895],\n",
       "         [ 66.75306122,  44.90285714,   1.46430246, ...,   1.55885554,\n",
       "            3.40752894,  12.46796872],\n",
       "         [ 24.29102041,  35.01571429,   1.85350266, ...,   1.44406167,\n",
       "            2.57604895,   4.87172015],\n",
       "         ..., \n",
       "         [ 29.05469388,  45.02857143,   1.38692428, ...,   4.51300062,\n",
       "            5.14162742,   7.4062996 ],\n",
       "         [ 35.15020408,  47.00714286,   6.00035636, ...,   2.12383218,\n",
       "           10.03972242,  20.15999072],\n",
       "         [ 40.95102041,  51.40214286,   3.03230242, ...,  13.14354545,\n",
       "            6.0862946 ,   9.60330356]]),\n",
       "  10: array([[ 60.90571429,  40.71071429,   2.22343157, ...,   1.1833913 ,\n",
       "            3.25841602,  15.75130148],\n",
       "         [ 50.17306122,  46.52285714,   1.45554969, ...,   1.44274672,\n",
       "            2.73541899,  12.8975758 ],\n",
       "         [ 24.07102041,  39.75571429,   1.84474989, ...,   1.37401704,\n",
       "            1.903939  ,   3.94108242],\n",
       "         ..., \n",
       "         [ 28.73469388,  44.95357143,   1.37817151, ...,   4.43142016,\n",
       "            5.28951747,   5.86599822],\n",
       "         [ 36.25020408,  44.33714286,   5.26179109, ...,   2.06083539,\n",
       "            7.55312342,  14.34051926],\n",
       "         [ 34.61102041,  55.24214286,   3.02354966, ...,  10.22138128,\n",
       "            5.26238791,  14.60264534]]),\n",
       "  11: array([[ 64.14571429,  42.37571429,   2.25715472, ...,   1.18368116,\n",
       "            4.75509344,  12.74105727],\n",
       "         [ 64.01306122,  37.97285714,   1.48927285, ...,   1.44303657,\n",
       "            2.85619328,  11.71720604],\n",
       "         [ 19.75102041,  34.79071429,   1.87847305, ...,   1.3743069 ,\n",
       "            2.02471329,   3.87038286],\n",
       "         ..., \n",
       "         [ 33.07469388,  47.35357143,   1.41189467, ...,   4.43171002,\n",
       "            6.65062768,   6.05537427],\n",
       "         [ 40.53020408,  44.32214286,   5.29551425, ...,   2.61112524,\n",
       "           12.14590227,  15.15989997],\n",
       "         [ 44.39102041,  50.23214286,   3.05727282, ...,  10.99167114,\n",
       "            5.3831622 ,  11.03196627]]),\n",
       "  12: array([[ 62.48571429,  36.73571429,   2.37100187, ...,   1.18899875,\n",
       "            3.38627784,  14.4011074 ],\n",
       "         [ 61.65306122,  41.69285714,   1.60312   , ...,   1.44864132,\n",
       "            2.86328081,  11.71731769],\n",
       "         [ 32.17102041,  41.09071429,   1.9923202 , ...,   1.37991165,\n",
       "            2.03180082,   3.87067364],\n",
       "         ..., \n",
       "         [ 34.49469388,  45.62857143,   1.52574181, ...,   4.43731477,\n",
       "            4.59737929,   6.65547944],\n",
       "         [ 34.31020408,  44.89214286,   5.40936139, ...,   2.06672999,\n",
       "            9.37580677,  15.4701569 ],\n",
       "         [ 41.53102041,  50.08214286,   3.17111996, ...,  10.58572355,\n",
       "            5.39024973,   9.60223484]]),\n",
       "  13: array([[ 62.74571429,  50.10071429,   3.36081833, ...,   1.35122444,\n",
       "            7.4255965 ,  15.78098165],\n",
       "         [ 63.95306122,  45.05285714,   1.78430898, ...,   1.61391808,\n",
       "            4.38456079,  13.42713042],\n",
       "         [ 25.11102041,  41.43571429,   2.99387084, ...,   1.59147901,\n",
       "            2.81784673,   4.28042435],\n",
       "         ..., \n",
       "         [ 38.77469388,  41.24857143,   1.67729246, ...,   4.8292533 ,\n",
       "            6.20864335,   5.86529865],\n",
       "         [ 35.87020408,  49.42214286,   5.59055037, ...,   2.37619304,\n",
       "           11.16209935,  16.69989997],\n",
       "         [ 43.27102041,  50.17214286,   3.35230894, ...,  15.27925981,\n",
       "            8.38419436,  13.05200777]]),\n",
       "  14: array([[ 61.50571429,  39.49571429,   2.22327987, ...,   1.1833913 ,\n",
       "            3.3926375 ,  14.74098165],\n",
       "         [ 54.73306122,  41.45285714,   1.45539799, ...,   1.44274672,\n",
       "            2.86964047,  11.38713042],\n",
       "         [ 19.07102041,  40.17571429,   1.84459819, ...,   1.37401704,\n",
       "            2.03816048,   3.87038286],\n",
       "         ..., \n",
       "         [ 28.83469388,  45.22357143,   1.37801981, ...,   6.43142016,\n",
       "            5.45852702,   5.86529865],\n",
       "         [ 36.33020408,  48.31214286,   6.20163939, ...,   2.06083539,\n",
       "           19.44653215,  14.15989997],\n",
       "         [ 35.67102041,  52.87214286,   3.02339796, ...,  13.22138128,\n",
       "            9.33712558,   9.60196627]]),\n",
       "  15: array([[ 58.10571429,  43.48571429,   2.43395783, ...,   1.18734936,\n",
       "            3.89896519,  16.53098165],\n",
       "         [ 53.77306122,  44.54285714,   1.66607596, ...,   1.44670478,\n",
       "            3.45795743,  13.27713042],\n",
       "         [ 21.43102041,  43.19071429,   3.57152227, ...,   1.3779751 ,\n",
       "            2.54448817,   4.89038286],\n",
       "         ..., \n",
       "         [ 34.11469388,  42.23857143,   1.58869778, ...,   4.43537822,\n",
       "            5.08024091,   7.44529865],\n",
       "         [ 34.97020408,  41.86214286,   5.47231735, ...,   2.06479345,\n",
       "            8.43318661,  16.34989997],\n",
       "         [ 36.99102041,  54.91214286,   3.76825631, ...,  10.22533934,\n",
       "            5.80751332,  11.53196627]]),\n",
       "  16: array([[ 64.60571429,  38.83571429,   2.24271924, ...,   1.36360796,\n",
       "            3.81356203,  14.49098165],\n",
       "         [ 60.61306122,  40.31285714,   1.47483737, ...,   1.79745581,\n",
       "            3.290565  ,  12.28713042],\n",
       "         [ 25.37102041,  40.29571429,   1.86403757, ...,   1.66218738,\n",
       "            2.45908501,   5.30038286],\n",
       "         ..., \n",
       "         [ 36.33469388,  41.68357143,   1.39745918, ...,   4.74831995,\n",
       "            5.69399585,   6.75529865],\n",
       "         [ 39.49020408,  46.96214286,   6.03451502, ...,   2.74589264,\n",
       "           14.2011852 ,  15.21989997],\n",
       "         [ 43.17102041,  52.99214286,   3.04283733, ...,  10.34160845,\n",
       "            5.81753392,  13.45196627]]),\n",
       "  17: array([[ 61.02571429,  42.18071429,   2.22327987, ...,   1.1833913 ,\n",
       "            3.25841602,  12.87721179],\n",
       "         [ 56.61306122,  42.74285714,   1.45539799, ...,   1.44274672,\n",
       "            2.73541899,  12.46150943],\n",
       "         [ 17.95102041,  43.01071429,   1.84459819, ...,   1.37401704,\n",
       "            1.903939  ,   3.87757684],\n",
       "         ..., \n",
       "         [ 29.27469388,  43.04857143,   1.37801981, ...,   4.43142016,\n",
       "            4.46951747,   5.87155279],\n",
       "         [ 35.93020408,  42.70214286,   5.26163939, ...,   2.06083539,\n",
       "            7.41312342,  16.70420522],\n",
       "         [ 39.89102041,  50.56214286,   3.02339796, ...,  10.22138128,\n",
       "            5.26238791,   9.7381964 ]]),\n",
       "  18: array([[ 64.02571429,  35.08571429,   2.61956072, ...,   1.1833913 ,\n",
       "            3.52567801,  14.70098165],\n",
       "         [ 58.65306122,  44.63285714,   1.47263776, ...,   1.44274672,\n",
       "            3.00818337,  12.63715193],\n",
       "         [ 21.11102041,  40.41571429,   1.86183796, ...,   1.37401704,\n",
       "            2.17120099,   3.87038286],\n",
       "         ..., \n",
       "         [ 37.65469388,  42.64357143,   1.39525958, ...,   4.43142016,\n",
       "            6.04408586,   5.86532016],\n",
       "         [ 42.77020408,  47.83214286,   5.27887915, ...,   2.06083539,\n",
       "           10.41453556,  15.35989997],\n",
       "         [ 40.97102041,  53.65214286,   3.51896833, ...,  10.22138128,\n",
       "            5.5296499 ,  10.19198778]]),\n",
       "  19: array([[ 63.34571429,  38.64071429,   2.22396899, ...,   1.1833913 ,\n",
       "            3.26100748,  12.79598165],\n",
       "         [ 61.29306122,  45.35285714,   1.45608712, ...,   1.94274672,\n",
       "            2.73801045,  11.38713042],\n",
       "         [ 20.55102041,  43.07071429,   1.84528732, ...,   1.37401704,\n",
       "            1.90653046,   3.87038286],\n",
       "         ..., \n",
       "         [ 34.57469388,  46.19857143,   1.37870894, ...,   4.43142016,\n",
       "            4.47210893,   6.19529865],\n",
       "         [ 37.85020408,  40.63214286,   5.26232852, ...,   2.06083539,\n",
       "            7.41571489,  16.32989997],\n",
       "         [ 41.59102041,  59.44214286,   3.02408708, ...,  10.22138128,\n",
       "           10.54497937,  10.26196627]]),\n",
       "  20: array([[ 64.58571429,  44.02571429,   2.23232887, ...,   1.24532083,\n",
       "            4.20740107,  16.38098165],\n",
       "         [ 58.65306122,  46.58285714,   1.468976  , ...,   1.50913828,\n",
       "            2.96984597,  13.04713042],\n",
       "         [ 20.05102041,  42.74071429,   1.8581762 , ...,   1.43594657,\n",
       "            2.07173051,   4.17038286],\n",
       "         ..., \n",
       "         [ 39.83469388,  45.88357143,   1.39159782, ...,   4.50425099,\n",
       "            4.7025817 ,   6.96529865],\n",
       "         [ 34.21020408,  47.18714286,   7.12241502, ...,   2.12276492,\n",
       "            7.76912314,  14.98989997],\n",
       "         [ 40.25102041,  53.86214286,   3.03697596, ...,  10.52690309,\n",
       "            5.64709519,  11.64196627]]),\n",
       "  21: array([[ 65.36571429,  32.22071429,   2.280798  , ...,   1.19274341,\n",
       "            3.45705606,  12.9345463 ],\n",
       "         [ 63.63306122,  40.76285714,   2.16736574, ...,   1.86881451,\n",
       "            4.12848619,  12.79597716],\n",
       "         [ 23.13102041,  42.08071429,   1.90211633, ...,   1.38336915,\n",
       "            2.29499637,   3.88649707],\n",
       "         ..., \n",
       "         [ 37.61469388,  37.64857143,   1.43553795, ...,   4.44077227,\n",
       "            4.66815752,   5.91309006],\n",
       "         [ 39.35020408,  42.71714286,   6.22797724, ...,   2.0701875 ,\n",
       "            7.59392648,  14.21568339],\n",
       "         [ 38.51102041,  49.93214286,   3.08091609, ...,  10.58520765,\n",
       "            5.46102795,  10.94916508]]),\n",
       "  22: array([[ 67.86571429,  37.21571429,   3.67634501, ...,   1.1833913 ,\n",
       "            3.31684435,  13.61098165],\n",
       "         [ 62.59306122,  38.78285714,   3.67372388, ...,   1.44274672,\n",
       "            2.79384732,  11.38713042],\n",
       "         [ 23.11102041,  36.17071429,   3.24895396, ...,   1.37401704,\n",
       "            1.96236734,   3.87038286],\n",
       "         ..., \n",
       "         [ 35.83469388,  44.30857143,   2.69182806, ...,   4.43142016,\n",
       "            4.76222791,   5.86529865],\n",
       "         [ 40.17020408,  42.49214286,   6.77032388, ...,   2.06083539,\n",
       "            7.46786426,  14.15989997],\n",
       "         [ 40.39102041,  51.49214286,   7.18275839, ...,  11.60138128,\n",
       "            5.31275213,  10.51196627]]),\n",
       "  23: array([[ 64.48571429,  42.66071429,   2.24910814, ...,   1.18401405,\n",
       "            3.459151  ,  12.81098165],\n",
       "         [ 57.49306122,  48.44285714,   1.48122627, ...,   1.72336946,\n",
       "            2.87572452,  11.56713042],\n",
       "         [ 17.95102041,  41.90071429,   1.87042647, ...,   1.37463979,\n",
       "            2.04424453,   4.11038286],\n",
       "         ..., \n",
       "         [ 34.67469388,  40.70857143,   1.40384809, ...,   4.83180999,\n",
       "            5.4329809 ,   5.86529865],\n",
       "         [ 34.71020408,  42.79214286,   5.28746767, ...,   2.06145813,\n",
       "            8.11658685,  14.83989997],\n",
       "         [ 37.31102041,  51.58214286,   3.04922624, ...,  12.97138128,\n",
       "            5.40269344,   9.81196627]]),\n",
       "  24: array([[ 68.24571429,  36.40571429,   2.22432698, ...,   1.22174881,\n",
       "            3.28889355,  17.30497244],\n",
       "         [ 63.17306122,  43.10285714,   1.45644511, ...,   1.47673967,\n",
       "            2.76589652,  12.77172283],\n",
       "         [ 24.33102041,  42.44071429,   1.84564531, ...,   1.41237455,\n",
       "            1.93441653,   3.87561717],\n",
       "         ..., \n",
       "         [ 41.67469388,  43.67857143,   1.37906693, ...,   4.61635747,\n",
       "            4.499995  ,   5.93928944],\n",
       "         [ 39.59020408,  44.47214286,   5.2626865 , ...,   2.09919289,\n",
       "            9.24100602,  16.54389076],\n",
       "         [ 40.29102041,  53.54714286,   3.02444507, ...,  10.25973879,\n",
       "            5.28715115,  10.01720058]]),\n",
       "  25: array([[ 66.52571429,  38.95571429,   2.71192856, ...,   2.68685809,\n",
       "            5.29725898,  19.01098165],\n",
       "         [ 64.89306122,  44.69285714,   1.94404669, ...,   2.46391664,\n",
       "            4.69906978,  15.76713042],\n",
       "         [ 26.17102041,  35.54071429,   2.33324689, ...,   3.59451028,\n",
       "            2.70360978,   8.68038286],\n",
       "         ..., \n",
       "         [ 39.77469388,  41.72857143,   2.72392966, ...,   8.65755188,\n",
       "            8.44739978,  12.74529865],\n",
       "         [ 43.67020408,  42.67214286,   8.91062626, ...,   4.06081164,\n",
       "           10.67285824,  16.87989997],\n",
       "         [ 47.75102041,  52.87214286,   6.12777034, ...,  13.75415596,\n",
       "           12.08764045,  15.70196627]]),\n",
       "  26: array([[ 64.84571429,  45.16571429,   2.94264639, ...,   1.23298078,\n",
       "            3.34120715,  15.31098165],\n",
       "         [ 62.25306122,  45.89285714,   2.14399174, ...,   2.85621519,\n",
       "            2.9007329 ,  13.27713042],\n",
       "         [ 23.79102041,  44.48071429,   2.61997524, ...,   1.42360652,\n",
       "            1.98673013,   4.81038286],\n",
       "         ..., \n",
       "         [ 40.43469388,  45.65857143,   2.06661356, ...,   5.25779335,\n",
       "            5.60912108,   6.29529865],\n",
       "         [ 43.45020408,  49.09214286,   7.45159732, ...,   2.11042486,\n",
       "            8.54379139,  17.47989997],\n",
       "         [ 43.85102041,  55.00214286,   4.37943115, ...,  12.42675   ,\n",
       "            6.09989599,  10.68196627]]),\n",
       "  27: array([[ 64.78571429,  43.69571429,   2.24151059, ...,   1.1833913 ,\n",
       "            3.92832462,  16.61098165],\n",
       "         [ 61.97306122,  44.72285714,   1.48063372, ...,   1.44274672,\n",
       "            4.2743711 ,  13.35713042],\n",
       "         [ 23.85102041,  36.02071429,   1.86983392, ...,   1.37401704,\n",
       "            2.45141827,   3.87038286],\n",
       "         ..., \n",
       "         [ 33.07469388,  44.06857143,   1.40325554, ...,   4.43142016,\n",
       "            5.08779085,   8.50529865],\n",
       "         [ 38.87020408,  43.96214286,   5.28687512, ...,   2.06083539,\n",
       "            8.0313968 ,  17.01989997],\n",
       "         [ 41.21102041,  55.51214286,   3.42101653, ...,  10.61138128,\n",
       "            7.76808851,  14.59196627]]),\n",
       "  28: array([[ 65.94571429,  41.85071429,   2.3339815 , ...,   1.37556583,\n",
       "            4.48056009,  14.03098165],\n",
       "         [ 66.15306122,  47.28785714,   1.56609962, ...,   2.57959597,\n",
       "            3.90932083,  12.07713042],\n",
       "         [ 17.95102041,  47.63071429,   1.95529982, ...,   1.56166145,\n",
       "            3.07784085,   4.26038286],\n",
       "         ..., \n",
       "         [ 32.81469388,  43.06357143,   1.48872144, ...,   9.2340389 ,\n",
       "            6.67549217,   5.86529865],\n",
       "         [ 33.25020408,  47.18714286,   5.37234102, ...,   3.11782817,\n",
       "           10.84530584,  14.68989997],\n",
       "         [ 41.97102041,  49.63214286,   3.13409959, ...,  12.44130237,\n",
       "            6.43628976,   9.60196627]]),\n",
       "  29: array([[ 68.58571429,  45.39071429,   2.22327987, ...,   1.1833913 ,\n",
       "            3.58320274,  12.74098165],\n",
       "         [ 53.21306122,  45.11285714,   1.45539799, ...,   1.44274672,\n",
       "            3.10341297,  11.38713042],\n",
       "         [ 18.09102041,  36.44071429,   1.84459819, ...,   1.37401704,\n",
       "            2.27193298,   3.87038286],\n",
       "         ..., \n",
       "         [ 46.11469388,  40.79857143,   1.37801981, ...,   4.43142016,\n",
       "            4.83751145,   5.86529865],\n",
       "         [ 42.51020408,  38.53214286,   5.26163939, ...,   2.06083539,\n",
       "           10.72616032,  19.15989997],\n",
       "         [ 46.61102041,  50.14214286,   3.02339796, ...,  10.22138128,\n",
       "            5.57588421,  13.10196627]]),\n",
       "  30: array([[ 63.62571429,  44.98571429,   2.25319468, ...,   1.21060942,\n",
       "            4.59282105,  12.96512507],\n",
       "         [ 58.61306122,  47.49785714,   1.48531281, ...,   1.50850817,\n",
       "            3.28690402,  13.43555418],\n",
       "         [ 20.35102041,  43.05571429,   1.87451301, ...,   1.3997785 ,\n",
       "            2.45542404,   4.17419101],\n",
       "         ..., \n",
       "         [ 32.01469388,  45.47857143,   1.40793463, ...,   4.45664141,\n",
       "            6.19479421,   6.67085804],\n",
       "         [ 37.71020408,  50.47214286,   5.28966062, ...,   2.37150204,\n",
       "            8.19641735,  15.53903305],\n",
       "         [ 36.05102041,  58.34714286,   3.05331278, ...,  11.2440983 ,\n",
       "            6.80299798,   9.93714071]]),\n",
       "  31: array([[ 56.72571429,  43.78571429,   2.29251156, ...,   1.1833913 ,\n",
       "            6.35335038,  13.74351643],\n",
       "         [ 52.83306122,  46.76285714,   1.52462969, ...,   1.44274672,\n",
       "            2.86617411,  12.30058009],\n",
       "         [ 23.95102041,  40.05571429,   1.91382989, ...,   1.37401704,\n",
       "            2.03469413,   3.87383253],\n",
       "         ..., \n",
       "         [ 33.65469388,  44.81857143,   1.44725151, ...,   6.43142016,\n",
       "            4.60027259,   5.86874832],\n",
       "         [ 42.15020408,  41.71214286,   7.16296653, ...,   2.06083539,\n",
       "            7.65889365,  18.91989997],\n",
       "         [ 42.41102041,  52.60214286,   3.08340828, ...,  14.22138128,\n",
       "            5.39314303,  10.50541594]]),\n",
       "  32: array([[ 64.58571429,  37.42571429,   2.22327987, ...,   1.19024701,\n",
       "            3.39458228,  15.59098165],\n",
       "         [ 63.01306122,  39.06785714,   1.45539799, ...,   1.46960242,\n",
       "            2.97479543,  14.27713042],\n",
       "         [ 22.67102041,  40.94071429,   1.84459819, ...,   1.38087275,\n",
       "            2.04010526,   3.87055881],\n",
       "         ..., \n",
       "         [ 38.87469388,  42.92857143,   1.37801981, ...,   5.24827587,\n",
       "            4.60568373,   6.78547461],\n",
       "         [ 39.39020408,  48.32714286,   6.02163939, ...,   2.42197096,\n",
       "            7.53601925,  16.72007593],\n",
       "         [ 42.27102041,  52.13714286,   3.02339796, ...,  11.0560443 ,\n",
       "            5.46132858,   9.79214222]]),\n",
       "  33: array([[ 55.48571429,  45.28571429,   3.66022237, ...,   1.7399943 ,\n",
       "            4.34330415,  12.74100393],\n",
       "         [ 61.87306122,  40.05785714,   2.89937465, ...,   1.77908164,\n",
       "            3.71816275,  12.47215269],\n",
       "         [ 17.95102041,  45.74071429,   2.33789852, ...,   1.49272795,\n",
       "            2.7792201 ,   4.40040513],\n",
       "         ..., \n",
       "         [ 43.91469388,  48.98857143,   1.87132014, ...,   6.36274766,\n",
       "            6.95218818,   5.86532092],\n",
       "         [ 37.23020408,  51.19214286,   6.11842559, ...,   5.23982811,\n",
       "           12.86007207,  15.87989997],\n",
       "         [ 45.85102041,  48.73214286,   3.51669829, ...,  15.24236872,\n",
       "            7.63802232,   9.60198854]]),\n",
       "  34: array([[ 65.22571429,  39.82571429,   2.23049169, ...,   1.18518314,\n",
       "            3.36171702,  13.22183318],\n",
       "         [ 62.05306122,  43.28285714,   1.46260982, ...,   1.66375183,\n",
       "            3.18972751,  11.80758201],\n",
       "         [ 24.31102041,  38.84071429,   1.85181002, ...,   1.3759966 ,\n",
       "            2.00724001,   4.38168597],\n",
       "         ..., \n",
       "         [ 38.47469388,  46.18357143,   1.38523164, ...,   4.83339972,\n",
       "            4.55993504,   6.34660177],\n",
       "         [ 39.07020408,  46.99214286,   5.26885121, ...,   2.06869729,\n",
       "            7.77850211,  14.61115923],\n",
       "         [ 39.11102041,  53.75714286,   3.03060978, ...,  10.67275796,\n",
       "            5.36568891,   9.60326939]]),\n",
       "  35: array([[ 54.26571429,  39.52571429,   2.22364826, ...,   2.1833913 ,\n",
       "            3.78687585,  13.63545942],\n",
       "         [ 58.31306122,  47.45285714,   1.45576639, ...,   1.44274672,\n",
       "            3.41471808,  13.82774365],\n",
       "         [ 18.29102041,  38.54071429,   1.84496659, ...,   1.37401704,\n",
       "            2.43239883,   4.33075816],\n",
       "         ..., \n",
       "         [ 33.27469388,  38.24857143,   1.37838821, ...,   4.43142016,\n",
       "            6.58420422,   6.26262453],\n",
       "         [ 40.29020408,  45.70214286,   5.26200779, ...,   2.06083539,\n",
       "            9.22812487,  20.33989997],\n",
       "         [ 36.77102041,  53.35214286,   3.35364233, ...,  10.22138128,\n",
       "            6.33134117,  10.7025795 ]]),\n",
       "  36: array([[ 69.64571429,  46.51571429,   4.57542764, ...,   1.1833913 ,\n",
       "            3.25841602,  14.2749654 ],\n",
       "         [ 65.65306122,  37.61285714,   1.46192511, ...,   1.44274672,\n",
       "            2.73541899,  14.44099354],\n",
       "         [ 29.35102041,  42.92071429,   1.85112531, ...,   1.37401704,\n",
       "            1.903939  ,   3.88556851],\n",
       "         ..., \n",
       "         [ 38.09469388,  41.27857143,   1.38365299, ...,   4.43142016,\n",
       "            4.46951747,   6.07837944],\n",
       "         [ 42.67020408,  47.50214286,   5.26727257, ...,   2.06083539,\n",
       "            7.41312342,  14.88487394],\n",
       "         [ 46.19102041,  49.12214286,   3.02992507, ...,  10.22138128,\n",
       "            5.26238791,  10.00097606]]),\n",
       "  37: array([[ 61.36571429,  38.08571429,   2.22327987, ...,   1.1833913 ,\n",
       "            4.14938764,  13.62157689],\n",
       "         [ 64.99306122,  40.52285714,   1.45539799, ...,   1.44274672,\n",
       "            3.82122415,  13.54932892],\n",
       "         [ 19.91102041,  48.68071429,   1.84459819, ...,   1.37401704,\n",
       "            4.16682982,   3.8750583 ],\n",
       "         ..., \n",
       "         [ 35.75469388,  46.52857143,   1.37801981, ...,   4.43142016,\n",
       "            6.7648156 ,   6.23767431],\n",
       "         [ 39.23020408,  50.33714286,   5.26163939, ...,   2.06083539,\n",
       "            8.61308714,  14.73335703],\n",
       "         [ 39.71102041,  49.27214286,   3.02339796, ...,  10.22138128,\n",
       "            7.38503223,  10.74493717]]),\n",
       "  38: array([[ 65.74571429,  37.81571429,   2.22874294, ...,   1.1833913 ,\n",
       "            3.37751107,  14.15098165],\n",
       "         [ 62.73306122,  48.95285714,   1.75061529, ...,   1.44274672,\n",
       "            2.85451404,  11.72713042],\n",
       "         [ 28.43102041,  39.89071429,   1.85006126, ...,   1.37401704,\n",
       "            2.02303406,   3.87038286],\n",
       "         ..., \n",
       "         [ 38.13469388,  44.83357143,   1.38348288, ...,   5.01142016,\n",
       "            4.58861253,   5.86529865],\n",
       "         [ 36.43020408,  38.71214286,   5.54710246, ...,   2.06083539,\n",
       "            8.51770868,  14.15989997],\n",
       "         [ 46.11102041,  55.42214286,   3.02886103, ...,  10.22138128,\n",
       "            5.38148296,   9.60196627]]),\n",
       "  39: array([[ 62.92571429,  44.05571429,   2.63368303, ...,   1.22330765,\n",
       "            5.46687384,  13.79557914],\n",
       "         [ 55.63306122,  48.11285714,   1.89394864, ...,   1.47713557,\n",
       "            2.97723671,  12.77052681],\n",
       "         [ 20.21102041,  45.11071429,   2.66932491, ...,   1.40840589,\n",
       "            2.15608262,   3.87673318],\n",
       "         ..., \n",
       "         [ 35.35469388,  42.68857143,   2.32589723, ...,   5.81620435,\n",
       "            5.03804631,   7.31120845],\n",
       "         [ 37.85020408,  51.97214286,  10.92457104, ...,   2.08683399,\n",
       "           10.45949972,  14.16527204],\n",
       "         [ 39.09102041,  53.02214286,   5.83094471, ...,  11.11066733,\n",
       "            5.51453153,  10.74733834]]),\n",
       "  40: array([[ 67.24571429,  50.08571429,   3.13343179, ...,   2.27040185,\n",
       "            4.05276906,  14.09098165],\n",
       "         [ 58.93306122,  46.68785714,   1.54342767, ...,   1.50505205,\n",
       "            3.73864434,  13.74713042],\n",
       "         [ 17.95102041,  44.72071429,   1.93262787, ...,   1.49516131,\n",
       "            2.67452133,   4.66038286],\n",
       "         ..., \n",
       "         [ 44.19469388,  47.18857143,   2.46951039, ...,   4.53634522,\n",
       "            6.30002813,   7.97529865],\n",
       "         [ 41.39020408,  51.28214286,   6.36022641, ...,   2.16576044,\n",
       "           10.11592449,  15.85989997],\n",
       "         [ 38.35102041,  58.33214286,   3.6316804 , ...,  12.68734725,\n",
       "            6.83366991,  11.02196627]]),\n",
       "  41: array([[ 64.92571429,  40.72571429,   2.33289765, ...,   1.6887584 ,\n",
       "            3.93377918,  12.74099948],\n",
       "         [ 61.07306122,  50.28785714,   1.56501578, ...,   1.55667755,\n",
       "            3.72785329,  12.47213042],\n",
       "         [ 18.65102041,  43.04071429,   1.95421598, ...,   1.49897177,\n",
       "            2.57930216,   3.87040068],\n",
       "         ..., \n",
       "         [ 31.77469388,  43.66357143,   1.4876376 , ...,   4.54688771,\n",
       "            7.08288426,   5.86531648],\n",
       "         [ 34.55020408,  45.67214286,   8.33943041, ...,   3.1007719 ,\n",
       "            9.5015095 ,  14.1599178 ],\n",
       "         [ 41.97102041,  58.39214286,   3.13301574, ...,  10.92598247,\n",
       "            7.95051982,   9.6019841 ]]),\n",
       "  42: array([[ 63.06571429,  39.16571429,   2.5732712 , ...,   1.41582439,\n",
       "            3.58842395,  15.04098165],\n",
       "         [ 63.63306122,  44.36285714,   1.49967284, ...,   1.45532209,\n",
       "            3.06542692,  15.07713042],\n",
       "         [ 19.25102041,  39.05071429,   1.88887304, ...,   1.37663165,\n",
       "            2.23394693,   5.20038286],\n",
       "         ..., \n",
       "         [ 33.91469388,  44.99857143,   1.42229466, ...,   5.48385236,\n",
       "            5.66272782,   8.84529865],\n",
       "         [ 36.75020408,  41.92214286,   5.30591424, ...,   2.06375559,\n",
       "            7.74313136,  18.05989997],\n",
       "         [ 41.45102041,  56.20214286,   3.0676728 , ...,  10.31254899,\n",
       "            5.81092249,  11.90196627]]),\n",
       "  43: array([[ 66.72571429,  39.33071429,   2.23378544, ...,   1.18799599,\n",
       "            3.95271425,  14.14594482],\n",
       "         [ 55.31306122,  41.09285714,   1.46590356, ...,   1.44735141,\n",
       "            3.29803937,  13.04082883],\n",
       "         [ 18.57102041,  41.15071429,   1.85510376, ...,   1.37862173,\n",
       "            2.37534707,   3.88314502],\n",
       "         ..., \n",
       "         [ 39.39469388,  39.08857143,   1.38852538, ...,   4.43602485,\n",
       "            5.03213786,   5.88468376],\n",
       "         [ 40.19020408,  38.26214286,   5.27214496, ...,   2.06544008,\n",
       "            9.26179917,  15.76564356],\n",
       "         [ 42.49102041,  55.39214286,   3.03390353, ...,  10.22565951,\n",
       "            5.77162067,   9.93135138]]),\n",
       "  44: array([[ 64.86571429,  47.14571429,   2.22477237, ...,   1.29070739,\n",
       "            3.83289894,  12.74098165],\n",
       "         [ 62.67306122,  47.12285714,   1.45689049, ...,   2.71084804,\n",
       "            4.2134884 ,  11.38713042],\n",
       "         [ 22.13102041,  40.61071429,   1.84609069, ...,   4.37982779,\n",
       "            2.47842192,   4.44038286],\n",
       "         ..., \n",
       "         [ 37.01469388,  43.22857143,   1.37951231, ...,   4.53873625,\n",
       "            8.96287618,   5.86529865],\n",
       "         [ 39.85020408,  51.19214286,   5.26313189, ...,   2.16815147,\n",
       "           10.63962301,  14.39989997],\n",
       "         [ 39.97102041,  57.53714286,   3.02489046, ...,  11.0833164 ,\n",
       "            7.73565589,  10.29196627]]),\n",
       "  45: array([[ 58.76571429,  44.07071429,   2.22792751, ...,   1.1833913 ,\n",
       "            3.47913372,  13.27193147],\n",
       "         [ 60.67306122,  50.03285714,   1.46004564, ...,   1.44274672,\n",
       "            3.05437167,  12.21809429],\n",
       "         [ 30.31102041,  40.13071429,   3.22849393, ...,   1.37401704,\n",
       "            2.1246567 ,   3.87141601],\n",
       "         ..., \n",
       "         [ 34.65469388,  46.91857143,   1.38266746, ...,   4.43142016,\n",
       "            5.91156851,   5.8663318 ],\n",
       "         [ 34.61020408,  46.58714286,   5.26628704, ...,   2.06083539,\n",
       "            7.63384113,  14.58067319],\n",
       "         [ 42.25102041,  57.46214286,   3.02804561, ...,  13.08138128,\n",
       "            5.48310561,   9.60299942]]),\n",
       "  46: array([[ 58.58571429,  42.34571429,   2.32207644, ...,   1.24986738,\n",
       "            3.47907954,  13.10978991],\n",
       "         [ 57.37306122,  45.99785714,   1.55419457, ...,   1.58305439,\n",
       "            2.95608251,  11.64054572],\n",
       "         [ 18.95102041,  45.17071429,   1.94339477, ...,   1.44049312,\n",
       "            2.09427526,   3.91984351],\n",
       "         ..., \n",
       "         [ 30.57469388,  48.55357143,   1.51541643, ...,   4.50038825,\n",
       "            4.65985373,   5.90634395],\n",
       "         [ 36.39020408,  45.28214286,   6.05101514, ...,   2.19005656,\n",
       "            7.60345969,  14.45184698],\n",
       "         [ 34.87102041,  54.14714286,   3.16079458, ...,  10.28436839,\n",
       "            5.85226685,   9.7106458 ]]),\n",
       "  47: array([[ 66.40571429,  43.06571429,   2.22327987, ...,   1.18526678,\n",
       "            3.46416176,  12.89098165],\n",
       "         [ 66.13306122,  48.56285714,   1.45539799, ...,   1.44462219,\n",
       "            2.94116473,  12.18713042],\n",
       "         [ 21.49102041,  41.07571429,   1.84459819, ...,   1.37589252,\n",
       "            2.10968474,   3.87038286],\n",
       "         ..., \n",
       "         [ 33.47469388,  45.95857143,   1.37801981, ...,   5.27329564,\n",
       "            4.65751283,   5.86529865],\n",
       "         [ 36.07020408,  48.04214286,   5.26163939, ...,   2.06271086,\n",
       "            7.61886917,  14.15989997],\n",
       "         [ 39.69102041,  57.52214286,   3.02339796, ...,  12.29297309,\n",
       "            5.45038326,   9.83196627]]),\n",
       "  48: array([[ 67.16571429,  43.06571429,   2.27632008, ...,   1.20233219,\n",
       "            3.68857388,  12.7432148 ],\n",
       "         [ 61.71306122,  43.64285714,   1.50843821, ...,   1.46683543,\n",
       "            3.71107028,  11.60951176],\n",
       "         [ 23.27102041,  36.15571429,   1.89763841, ...,   1.39366659,\n",
       "            2.33409687,   4.4323369 ],\n",
       "         ..., \n",
       "         [ 41.41469388,  46.13857143,   1.43106003, ...,   4.45106971,\n",
       "            6.31230124,   5.86772328],\n",
       "         [ 39.41020408,  42.65714286,   5.3146796 , ...,   2.21843247,\n",
       "           10.05410083,  14.34228132],\n",
       "         [ 45.59102041,  50.29214286,   3.07643817, ...,  11.03281191,\n",
       "            5.69254578,  10.07350143]]),\n",
       "  49: array([[ 62.50571429,  39.04571429,   2.2233415 , ...,   1.1833913 ,\n",
       "            3.62153035,  14.28313287],\n",
       "         [ 60.53306122,  47.39285714,   1.45545963, ...,   1.44274672,\n",
       "            2.8090066 ,  13.39382775],\n",
       "         [ 22.09102041,  42.20071429,   2.18465983, ...,   1.49401704,\n",
       "            1.97752662,   3.89089944],\n",
       "         ..., \n",
       "         [ 35.65469388,  45.76357143,   1.37808145, ...,   5.43142016,\n",
       "            4.54310508,   5.93399976],\n",
       "         [ 38.11020408,  45.82214286,   5.62163939, ...,   2.06083539,\n",
       "            7.48671104,  16.08102056],\n",
       "         [ 37.55102041,  56.08214286,   3.02345959, ...,  14.02138128,\n",
       "            5.46982349,   9.62159966]])}}"
      ]
     },
     "execution_count": 102,
     "metadata": {},
     "output_type": "execute_result"
    }
   ],
   "source": [
    "loading.make_prediction_files(rfcs_leaderboard,X_leaderboard_int,X_leaderboard_other,\n",
    "                              'leaderboard',1,Y_test=Y_leaderboard_noimpute,\n",
    "                              write=True,regularize=regularize)"
   ]
  },
  {
   "cell_type": "code",
   "execution_count": null,
   "metadata": {
    "collapsed": false
   },
   "outputs": [],
   "source": [
    "n_estimators = 50\n",
    "\n",
    "# Fit all data for subchallenge 1.  \n",
    "rfcs1,score1,rs1 = fit1.rfc_final(X_all,Y_all_imp['subject'],max_features,\n",
    "                                           min_samples_leaf,max_depth,use_et,\n",
    "                                           regularize=regularize,\n",
    "                                           n_estimators=n_estimators)"
   ]
  },
  {
   "cell_type": "code",
   "execution_count": null,
   "metadata": {
    "collapsed": true
   },
   "outputs": [],
   "source": [
    "loading.make_prediction_files(rfcs1,X_testset_int,X_testset_other,\n",
    "                              'leaderboard',1,write=True,regularize=regularize)"
   ]
  }
 ],
 "metadata": {
  "kernelspec": {
   "display_name": "Python 3",
   "language": "python",
   "name": "python3"
  },
  "language_info": {
   "codemirror_mode": {
    "name": "ipython",
    "version": 3
   },
   "file_extension": ".py",
   "mimetype": "text/x-python",
   "name": "python",
   "nbconvert_exporter": "python",
   "pygments_lexer": "ipython3",
   "version": "3.4.1"
  }
 },
 "nbformat": 4,
 "nbformat_minor": 0
}
