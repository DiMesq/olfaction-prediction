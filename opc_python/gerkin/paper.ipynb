{
 "cells": [
  {
   "cell_type": "code",
   "execution_count": 1,
   "metadata": {
    "collapsed": true
   },
   "outputs": [],
   "source": [
    "# Preliminaries to work with the data.   \n",
    "%matplotlib inline\n",
    "import os\n",
    "import sys\n",
    "curr_path = os.getcwd()\n",
    "gerkin_path = os.path.split(curr_path)[0]\n",
    "olfaction_prediction_path = os.path.split(gerkin_path)[0]\n",
    "sys.path.append(olfaction_prediction_path)\n",
    "import opc_python\n",
    "from opc_python.utils import loading, scoring\n",
    "from opc_python.gerkin import dream\n",
    "import numpy as np\n",
    "import matplotlib.pyplot as plt\n",
    "import pandas"
   ]
  },
  {
   "cell_type": "markdown",
   "metadata": {},
   "source": [
    "### Figure 3D"
   ]
  },
  {
   "cell_type": "code",
   "execution_count": 2,
   "metadata": {
    "collapsed": false
   },
   "outputs": [
    {
     "data": {
      "text/html": [
       "<div>\n",
       "<table border=\"1\" class=\"dataframe\">\n",
       "  <thead>\n",
       "    <tr style=\"text-align: right;\">\n",
       "      <th></th>\n",
       "      <th>CID</th>\n",
       "      <th>Mean Correlation</th>\n",
       "      <th>Upper(95)</th>\n",
       "      <th>Lower(95)</th>\n",
       "    </tr>\n",
       "  </thead>\n",
       "  <tbody>\n",
       "    <tr>\n",
       "      <th>0</th>\n",
       "      <td>11567</td>\n",
       "      <td>0.992470</td>\n",
       "      <td>0.996283</td>\n",
       "      <td>0.988656</td>\n",
       "    </tr>\n",
       "    <tr>\n",
       "      <th>1</th>\n",
       "      <td>7797</td>\n",
       "      <td>0.990325</td>\n",
       "      <td>0.993448</td>\n",
       "      <td>0.987202</td>\n",
       "    </tr>\n",
       "    <tr>\n",
       "      <th>2</th>\n",
       "      <td>18467</td>\n",
       "      <td>0.986352</td>\n",
       "      <td>0.988279</td>\n",
       "      <td>0.984425</td>\n",
       "    </tr>\n",
       "    <tr>\n",
       "      <th>3</th>\n",
       "      <td>17898</td>\n",
       "      <td>0.982546</td>\n",
       "      <td>0.996641</td>\n",
       "      <td>0.968451</td>\n",
       "    </tr>\n",
       "    <tr>\n",
       "      <th>4</th>\n",
       "      <td>637758</td>\n",
       "      <td>0.982176</td>\n",
       "      <td>0.986457</td>\n",
       "      <td>0.977895</td>\n",
       "    </tr>\n",
       "  </tbody>\n",
       "</table>\n",
       "</div>"
      ],
      "text/plain": [
       "     CID    Mean Correlation    Upper(95)    Lower(95) \n",
       "0   11567            0.992470     0.996283     0.988656\n",
       "1    7797            0.990325     0.993448     0.987202\n",
       "2   18467            0.986352     0.988279     0.984425\n",
       "3   17898            0.982546     0.996641     0.968451\n",
       "4  637758            0.982176     0.986457     0.977895"
      ]
     },
     "execution_count": 2,
     "metadata": {},
     "output_type": "execute_result"
    }
   ],
   "source": [
    "# Load the data file \"PredInsights_Agg_sorted_odor_data.txt\".  \n",
    "df = pandas.read_csv('../../data/PredInsights_Agg_sorted_odor_data.txt', \n",
    "                     delimiter='\\t')\n",
    "# First 5 rows of loaded data.  \n",
    "df.head()"
   ]
  },
  {
   "cell_type": "code",
   "execution_count": 3,
   "metadata": {
    "collapsed": false
   },
   "outputs": [
    {
     "name": "stdout",
     "output_type": "stream",
     "text": [
      "5 CIDs with lowest mean correlation:\n",
      "[ 753 7657 8025 5962 5862]\n",
      "64 CIDs with highest mean correlation:\n",
      "[   11567     7797    18467    17898   637758    61523     7793    60998\n",
      "     7137     6544  5281168   251531  5318599    12020  2733294     8878\n",
      "     7770     8815     6669    62351      323 10857465     3314  5364231\n",
      "    31283    31276     7092     7559  5371102   853433  5352837     7476\n",
      "    62089     8094    62465     1031    21363     8468    31219    15654\n",
      "      264      750     8438      702     6322    10886    27440    12265\n",
      "  5281167     9012     8419    12377      262      180     6561      962\n",
      "     8049    16537   440917     7302     6506     6274  1549025     3102]\n"
     ]
    }
   ],
   "source": [
    "worst5 = df.iloc[-5:,0].as_matrix()\n",
    "print(\"5 CIDs with lowest mean correlation:\\n%s\" % worst5)\n",
    "rest64 = df.iloc[:64,0].as_matrix()\n",
    "print(\"64 CIDs with highest mean correlation:\\n%s\" % rest64)"
   ]
  },
  {
   "cell_type": "code",
   "execution_count": 4,
   "metadata": {
    "collapsed": false
   },
   "outputs": [],
   "source": [
    "# Load the CIDs and dilutions for the testset.  \n",
    "CIDs = loading.get_CIDs(\"testset\")\n",
    "CID_dilutions = loading.get_CID_dilutions(\"testset\",target_dilution=-3) # Dilution is irrelevant here.  "
   ]
  },
  {
   "cell_type": "code",
   "execution_count": 5,
   "metadata": {
    "collapsed": false
   },
   "outputs": [],
   "source": [
    "# Load the molecular descriptors data.  \n",
    "molecular_headers, molecular_data = loading.load_molecular_data()\n",
    "molecular_vectors = dream.get_molecular_vectors(molecular_data,CID_dilutions)"
   ]
  },
  {
   "cell_type": "code",
   "execution_count": 6,
   "metadata": {
    "collapsed": false
   },
   "outputs": [
    {
     "name": "stdout",
     "output_type": "stream",
     "text": [
      "Feature matrix for worst 5 molecules has shape (5,4869)\n",
      "Feature matrix for other 64 molecules has shape (64,4869)\n"
     ]
    }
   ],
   "source": [
    "worst5_features = np.array([molecular_vectors[x] for x in worst5])\n",
    "print(\"Feature matrix for worst 5 molecules has shape (%d,%d)\" % worst5_features.shape)\n",
    "\n",
    "rest64_features = np.array([molecular_vectors[x] for x in rest64])\n",
    "print(\"Feature matrix for other 64 molecules has shape (%d,%d)\" % rest64_features.shape)"
   ]
  },
  {
   "cell_type": "code",
   "execution_count": 7,
   "metadata": {
    "collapsed": false
   },
   "outputs": [],
   "source": [
    "from scipy.stats import ttest_ind as ttest, ranksums as wilcoxon\n",
    "n_features = worst5_features.shape[1]\n",
    "p_values = {}\n",
    "for i in range(n_features):\n",
    "    worst5 = worst5_features[:,i]\n",
    "    worst5 = worst5[np.isfinite(worst5)] # Remove NaN values so the t-test can proceed.  \n",
    "    rest64 = rest64_features[:,i]\n",
    "    rest64 = rest64[np.isfinite(rest64)] # Remove NaN values so the t-test can proceed. \n",
    "    t,p_t = ttest(worst5, rest64, axis=0)\n",
    "    _,p_w = wilcoxon(worst5, rest64)\n",
    "    feature = molecular_headers[i+1] # +1 to avoid the CID index.  \n",
    "    p_values[feature] = {'p_t':p_t, \n",
    "                         'p_w':p_w,\n",
    "                         'bad_mean':worst5.mean(), \n",
    "                         'rest_mean':rest64.mean(),\n",
    "                         'bad_n':worst5.size,\n",
    "                         'rest_n':rest64.size}"
   ]
  },
  {
   "cell_type": "code",
   "execution_count": 8,
   "metadata": {
    "collapsed": false
   },
   "outputs": [
    {
     "data": {
      "text/html": [
       "<div>\n",
       "<table border=\"1\" class=\"dataframe\">\n",
       "  <thead>\n",
       "    <tr style=\"text-align: right;\">\n",
       "      <th></th>\n",
       "      <th>p_t</th>\n",
       "      <th>p_w</th>\n",
       "      <th>bad_mean</th>\n",
       "      <th>rest_mean</th>\n",
       "      <th>bad_n</th>\n",
       "      <th>rest_n</th>\n",
       "    </tr>\n",
       "  </thead>\n",
       "  <tbody>\n",
       "    <tr>\n",
       "      <th>CATS2D_03_DD</th>\n",
       "      <td>0.000003</td>\n",
       "      <td>0.041670</td>\n",
       "      <td>0.8000</td>\n",
       "      <td>0.062500</td>\n",
       "      <td>5</td>\n",
       "      <td>64</td>\n",
       "    </tr>\n",
       "    <tr>\n",
       "      <th>HATS4s</th>\n",
       "      <td>0.000059</td>\n",
       "      <td>0.055493</td>\n",
       "      <td>3.9588</td>\n",
       "      <td>1.651302</td>\n",
       "      <td>5</td>\n",
       "      <td>63</td>\n",
       "    </tr>\n",
       "    <tr>\n",
       "      <th>R4s+</th>\n",
       "      <td>0.000073</td>\n",
       "      <td>0.061761</td>\n",
       "      <td>0.9992</td>\n",
       "      <td>0.402317</td>\n",
       "      <td>5</td>\n",
       "      <td>63</td>\n",
       "    </tr>\n",
       "    <tr>\n",
       "      <th>G(O..S)</th>\n",
       "      <td>0.000196</td>\n",
       "      <td>0.458902</td>\n",
       "      <td>1.4778</td>\n",
       "      <td>0.000000</td>\n",
       "      <td>5</td>\n",
       "      <td>64</td>\n",
       "    </tr>\n",
       "    <tr>\n",
       "      <th>CATS2D_07_DP</th>\n",
       "      <td>0.000196</td>\n",
       "      <td>0.458902</td>\n",
       "      <td>0.2000</td>\n",
       "      <td>0.000000</td>\n",
       "      <td>5</td>\n",
       "      <td>64</td>\n",
       "    </tr>\n",
       "    <tr>\n",
       "      <th>CATS2D_07_DD</th>\n",
       "      <td>0.000196</td>\n",
       "      <td>0.458902</td>\n",
       "      <td>0.2000</td>\n",
       "      <td>0.000000</td>\n",
       "      <td>5</td>\n",
       "      <td>64</td>\n",
       "    </tr>\n",
       "    <tr>\n",
       "      <th>NsSH</th>\n",
       "      <td>0.000196</td>\n",
       "      <td>0.458902</td>\n",
       "      <td>0.2000</td>\n",
       "      <td>0.000000</td>\n",
       "      <td>5</td>\n",
       "      <td>64</td>\n",
       "    </tr>\n",
       "    <tr>\n",
       "      <th>CATS2D_07_DA</th>\n",
       "      <td>0.000196</td>\n",
       "      <td>0.458902</td>\n",
       "      <td>0.2000</td>\n",
       "      <td>0.000000</td>\n",
       "      <td>5</td>\n",
       "      <td>64</td>\n",
       "    </tr>\n",
       "    <tr>\n",
       "      <th>CATS2D_07_AP</th>\n",
       "      <td>0.000196</td>\n",
       "      <td>0.458902</td>\n",
       "      <td>0.2000</td>\n",
       "      <td>0.000000</td>\n",
       "      <td>5</td>\n",
       "      <td>64</td>\n",
       "    </tr>\n",
       "    <tr>\n",
       "      <th>nSH</th>\n",
       "      <td>0.000196</td>\n",
       "      <td>0.458902</td>\n",
       "      <td>0.2000</td>\n",
       "      <td>0.000000</td>\n",
       "      <td>5</td>\n",
       "      <td>64</td>\n",
       "    </tr>\n",
       "  </tbody>\n",
       "</table>\n",
       "</div>"
      ],
      "text/plain": [
       "                   p_t       p_w  bad_mean  rest_mean  bad_n  rest_n\n",
       "CATS2D_03_DD  0.000003  0.041670    0.8000   0.062500      5      64\n",
       "HATS4s        0.000059  0.055493    3.9588   1.651302      5      63\n",
       "R4s+          0.000073  0.061761    0.9992   0.402317      5      63\n",
       "G(O..S)       0.000196  0.458902    1.4778   0.000000      5      64\n",
       "CATS2D_07_DP  0.000196  0.458902    0.2000   0.000000      5      64\n",
       "CATS2D_07_DD  0.000196  0.458902    0.2000   0.000000      5      64\n",
       "NsSH          0.000196  0.458902    0.2000   0.000000      5      64\n",
       "CATS2D_07_DA  0.000196  0.458902    0.2000   0.000000      5      64\n",
       "CATS2D_07_AP  0.000196  0.458902    0.2000   0.000000      5      64\n",
       "nSH           0.000196  0.458902    0.2000   0.000000      5      64"
      ]
     },
     "execution_count": 8,
     "metadata": {},
     "output_type": "execute_result"
    }
   ],
   "source": [
    "df = pandas.DataFrame(data=p_values).transpose()\n",
    "df = df[['p_t', 'p_w', 'bad_mean', 'rest_mean', 'bad_n', 'rest_n']]\n",
    "df.sort_values('p_t',inplace=True)\n",
    "df[:10] # Smallest 10 p-values.  "
   ]
  },
  {
   "cell_type": "markdown",
   "metadata": {},
   "source": [
    "#### How does this compare to the results computed previously by Amit?"
   ]
  },
  {
   "cell_type": "code",
   "execution_count": 9,
   "metadata": {
    "collapsed": false
   },
   "outputs": [
    {
     "data": {
      "text/html": [
       "<div>\n",
       "<table border=\"1\" class=\"dataframe\">\n",
       "  <thead>\n",
       "    <tr style=\"text-align: right;\">\n",
       "      <th></th>\n",
       "      <th>Feature</th>\n",
       "      <th>p-value</th>\n",
       "      <th>BadMean</th>\n",
       "      <th>RestMean</th>\n",
       "    </tr>\n",
       "  </thead>\n",
       "  <tbody>\n",
       "    <tr>\n",
       "      <th>0</th>\n",
       "      <td>CATS2D_03_DD</td>\n",
       "      <td>0.000003</td>\n",
       "      <td>0.8000</td>\n",
       "      <td>0.062500</td>\n",
       "    </tr>\n",
       "    <tr>\n",
       "      <th>1</th>\n",
       "      <td>HATS4s</td>\n",
       "      <td>0.000055</td>\n",
       "      <td>3.9588</td>\n",
       "      <td>1.625500</td>\n",
       "    </tr>\n",
       "    <tr>\n",
       "      <th>2</th>\n",
       "      <td>R4s+</td>\n",
       "      <td>0.000066</td>\n",
       "      <td>0.9992</td>\n",
       "      <td>0.396031</td>\n",
       "    </tr>\n",
       "    <tr>\n",
       "      <th>3</th>\n",
       "      <td>SsSH</td>\n",
       "      <td>0.000196</td>\n",
       "      <td>0.7298</td>\n",
       "      <td>0.000000</td>\n",
       "    </tr>\n",
       "    <tr>\n",
       "      <th>4</th>\n",
       "      <td>G(O..S)</td>\n",
       "      <td>0.000196</td>\n",
       "      <td>1.4778</td>\n",
       "      <td>0.000000</td>\n",
       "    </tr>\n",
       "    <tr>\n",
       "      <th>5</th>\n",
       "      <td>nSH</td>\n",
       "      <td>0.000196</td>\n",
       "      <td>0.2000</td>\n",
       "      <td>0.000000</td>\n",
       "    </tr>\n",
       "    <tr>\n",
       "      <th>6</th>\n",
       "      <td>S-106</td>\n",
       "      <td>0.000196</td>\n",
       "      <td>0.2000</td>\n",
       "      <td>0.000000</td>\n",
       "    </tr>\n",
       "    <tr>\n",
       "      <th>7</th>\n",
       "      <td>NsSH</td>\n",
       "      <td>0.000196</td>\n",
       "      <td>0.2000</td>\n",
       "      <td>0.000000</td>\n",
       "    </tr>\n",
       "    <tr>\n",
       "      <th>8</th>\n",
       "      <td>CATS2D_07_DD</td>\n",
       "      <td>0.000196</td>\n",
       "      <td>0.2000</td>\n",
       "      <td>0.000000</td>\n",
       "    </tr>\n",
       "    <tr>\n",
       "      <th>9</th>\n",
       "      <td>CATS2D_07_DA</td>\n",
       "      <td>0.000196</td>\n",
       "      <td>0.2000</td>\n",
       "      <td>0.000000</td>\n",
       "    </tr>\n",
       "  </tbody>\n",
       "</table>\n",
       "</div>"
      ],
      "text/plain": [
       "        Feature   p-value   BadMean   RestMean\n",
       "0  CATS2D_03_DD  0.000003    0.8000   0.062500\n",
       "1        HATS4s  0.000055    3.9588   1.625500\n",
       "2          R4s+  0.000066    0.9992   0.396031\n",
       "3          SsSH  0.000196    0.7298   0.000000\n",
       "4       G(O..S)  0.000196    1.4778   0.000000\n",
       "5           nSH  0.000196    0.2000   0.000000\n",
       "6         S-106  0.000196    0.2000   0.000000\n",
       "7          NsSH  0.000196    0.2000   0.000000\n",
       "8  CATS2D_07_DD  0.000196    0.2000   0.000000\n",
       "9  CATS2D_07_DA  0.000196    0.2000   0.000000"
      ]
     },
     "execution_count": 9,
     "metadata": {},
     "output_type": "execute_result"
    }
   ],
   "source": [
    "# Compare to the results in the pre-computed \"PredInsights_Fdiffodor.txt\" file.  \n",
    "df_static = pandas.read_csv('../../data/PredInsights_Fdiffodor.txt', \n",
    "                     delimiter='\\t')\n",
    "# First 5 rows of loaded data.  \n",
    "df_static[:10]"
   ]
  },
  {
   "cell_type": "markdown",
   "metadata": {},
   "source": [
    "##### The results are similar, some p-values are slightly different.  \n",
    "##### The difference of entries 3-10 is probably arbitrary due to tie-breaking of values sharing p=0.00196"
   ]
  },
  {
   "cell_type": "markdown",
   "metadata": {},
   "source": [
    "#### But a completely different set of features are obtained if we switch to a Wilcoxon rank-sum test:"
   ]
  },
  {
   "cell_type": "code",
   "execution_count": 10,
   "metadata": {
    "collapsed": false
   },
   "outputs": [
    {
     "data": {
      "text/html": [
       "<div>\n",
       "<table border=\"1\" class=\"dataframe\">\n",
       "  <thead>\n",
       "    <tr style=\"text-align: right;\">\n",
       "      <th></th>\n",
       "      <th>p_t</th>\n",
       "      <th>p_w</th>\n",
       "      <th>bad_mean</th>\n",
       "      <th>rest_mean</th>\n",
       "      <th>bad_n</th>\n",
       "      <th>rest_n</th>\n",
       "    </tr>\n",
       "  </thead>\n",
       "  <tbody>\n",
       "    <tr>\n",
       "      <th>SsCH3</th>\n",
       "      <td>0.015229</td>\n",
       "      <td>0.006311</td>\n",
       "      <td>0.3516</td>\n",
       "      <td>2.832453</td>\n",
       "      <td>5</td>\n",
       "      <td>64</td>\n",
       "    </tr>\n",
       "    <tr>\n",
       "      <th>P_VSA_LogP_1</th>\n",
       "      <td>0.019056</td>\n",
       "      <td>0.007774</td>\n",
       "      <td>1.7650</td>\n",
       "      <td>13.775141</td>\n",
       "      <td>5</td>\n",
       "      <td>64</td>\n",
       "    </tr>\n",
       "    <tr>\n",
       "      <th>MATS5v</th>\n",
       "      <td>0.049849</td>\n",
       "      <td>0.008045</td>\n",
       "      <td>0.1882</td>\n",
       "      <td>-0.034922</td>\n",
       "      <td>5</td>\n",
       "      <td>64</td>\n",
       "    </tr>\n",
       "    <tr>\n",
       "      <th>NsCH3</th>\n",
       "      <td>0.015321</td>\n",
       "      <td>0.008911</td>\n",
       "      <td>0.2000</td>\n",
       "      <td>1.500000</td>\n",
       "      <td>5</td>\n",
       "      <td>64</td>\n",
       "    </tr>\n",
       "    <tr>\n",
       "      <th>G1i</th>\n",
       "      <td>0.218281</td>\n",
       "      <td>0.009534</td>\n",
       "      <td>0.3838</td>\n",
       "      <td>0.256906</td>\n",
       "      <td>5</td>\n",
       "      <td>64</td>\n",
       "    </tr>\n",
       "    <tr>\n",
       "      <th>R2u</th>\n",
       "      <td>0.067865</td>\n",
       "      <td>0.009534</td>\n",
       "      <td>1.5796</td>\n",
       "      <td>1.808109</td>\n",
       "      <td>5</td>\n",
       "      <td>64</td>\n",
       "    </tr>\n",
       "    <tr>\n",
       "      <th>MATS2m</th>\n",
       "      <td>0.021959</td>\n",
       "      <td>0.009534</td>\n",
       "      <td>-0.1600</td>\n",
       "      <td>0.003875</td>\n",
       "      <td>5</td>\n",
       "      <td>64</td>\n",
       "    </tr>\n",
       "    <tr>\n",
       "      <th>G1u</th>\n",
       "      <td>0.217466</td>\n",
       "      <td>0.013701</td>\n",
       "      <td>0.3890</td>\n",
       "      <td>0.263031</td>\n",
       "      <td>5</td>\n",
       "      <td>64</td>\n",
       "    </tr>\n",
       "    <tr>\n",
       "      <th>MATS5p</th>\n",
       "      <td>0.018659</td>\n",
       "      <td>0.014150</td>\n",
       "      <td>0.1836</td>\n",
       "      <td>-0.025250</td>\n",
       "      <td>5</td>\n",
       "      <td>64</td>\n",
       "    </tr>\n",
       "    <tr>\n",
       "      <th>Mor28u</th>\n",
       "      <td>0.028558</td>\n",
       "      <td>0.014150</td>\n",
       "      <td>-0.0342</td>\n",
       "      <td>-0.272891</td>\n",
       "      <td>5</td>\n",
       "      <td>64</td>\n",
       "    </tr>\n",
       "  </tbody>\n",
       "</table>\n",
       "</div>"
      ],
      "text/plain": [
       "                   p_t       p_w  bad_mean  rest_mean  bad_n  rest_n\n",
       "SsCH3         0.015229  0.006311    0.3516   2.832453      5      64\n",
       "P_VSA_LogP_1  0.019056  0.007774    1.7650  13.775141      5      64\n",
       "MATS5v        0.049849  0.008045    0.1882  -0.034922      5      64\n",
       "NsCH3         0.015321  0.008911    0.2000   1.500000      5      64\n",
       "G1i           0.218281  0.009534    0.3838   0.256906      5      64\n",
       "R2u           0.067865  0.009534    1.5796   1.808109      5      64\n",
       "MATS2m        0.021959  0.009534   -0.1600   0.003875      5      64\n",
       "G1u           0.217466  0.013701    0.3890   0.263031      5      64\n",
       "MATS5p        0.018659  0.014150    0.1836  -0.025250      5      64\n",
       "Mor28u        0.028558  0.014150   -0.0342  -0.272891      5      64"
      ]
     },
     "execution_count": 10,
     "metadata": {},
     "output_type": "execute_result"
    }
   ],
   "source": [
    "df.sort_values('p_w',inplace=True)\n",
    "df[:10] # Smallest 10 p-values.  "
   ]
  }
 ],
 "metadata": {
  "kernelspec": {
   "display_name": "Python 3",
   "language": "python",
   "name": "python3"
  },
  "language_info": {
   "codemirror_mode": {
    "name": "ipython",
    "version": 3
   },
   "file_extension": ".py",
   "mimetype": "text/x-python",
   "name": "python",
   "nbconvert_exporter": "python",
   "pygments_lexer": "ipython3",
   "version": "3.4.1"
  }
 },
 "nbformat": 4,
 "nbformat_minor": 0
}
