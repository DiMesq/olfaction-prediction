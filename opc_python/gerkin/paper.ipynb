{
 "cells": [
  {
   "cell_type": "code",
   "execution_count": 1,
   "metadata": {
    "collapsed": true
   },
   "outputs": [],
   "source": [
    "# Preliminaries to work with the data.   \n",
    "%matplotlib inline\n",
    "import os\n",
    "import sys\n",
    "curr_path = os.getcwd()\n",
    "gerkin_path = os.path.split(curr_path)[0]\n",
    "olfaction_prediction_path = os.path.split(gerkin_path)[0]\n",
    "sys.path.append(olfaction_prediction_path)\n",
    "import opc_python\n",
    "from opc_python.utils import loading, scoring\n",
    "from opc_python.gerkin import dream\n",
    "import numpy as np\n",
    "import matplotlib.pyplot as plt\n",
    "import pandas"
   ]
  },
  {
   "cell_type": "markdown",
   "metadata": {},
   "source": [
    "### Figure 3D"
   ]
  },
  {
   "cell_type": "code",
   "execution_count": 2,
   "metadata": {
    "collapsed": false
   },
   "outputs": [
    {
     "data": {
      "text/html": [
       "<div>\n",
       "<table border=\"1\" class=\"dataframe\">\n",
       "  <thead>\n",
       "    <tr style=\"text-align: right;\">\n",
       "      <th></th>\n",
       "      <th>CID</th>\n",
       "      <th>Mean Correlation</th>\n",
       "      <th>Upper(95)</th>\n",
       "      <th>Lower(95)</th>\n",
       "    </tr>\n",
       "  </thead>\n",
       "  <tbody>\n",
       "    <tr>\n",
       "      <th>0</th>\n",
       "      <td>11567</td>\n",
       "      <td>0.992470</td>\n",
       "      <td>0.996283</td>\n",
       "      <td>0.988656</td>\n",
       "    </tr>\n",
       "    <tr>\n",
       "      <th>1</th>\n",
       "      <td>7797</td>\n",
       "      <td>0.990325</td>\n",
       "      <td>0.993448</td>\n",
       "      <td>0.987202</td>\n",
       "    </tr>\n",
       "    <tr>\n",
       "      <th>2</th>\n",
       "      <td>18467</td>\n",
       "      <td>0.986352</td>\n",
       "      <td>0.988279</td>\n",
       "      <td>0.984425</td>\n",
       "    </tr>\n",
       "    <tr>\n",
       "      <th>3</th>\n",
       "      <td>17898</td>\n",
       "      <td>0.982546</td>\n",
       "      <td>0.996641</td>\n",
       "      <td>0.968451</td>\n",
       "    </tr>\n",
       "    <tr>\n",
       "      <th>4</th>\n",
       "      <td>637758</td>\n",
       "      <td>0.982176</td>\n",
       "      <td>0.986457</td>\n",
       "      <td>0.977895</td>\n",
       "    </tr>\n",
       "  </tbody>\n",
       "</table>\n",
       "</div>"
      ],
      "text/plain": [
       "     CID    Mean Correlation    Upper(95)    Lower(95) \n",
       "0   11567            0.992470     0.996283     0.988656\n",
       "1    7797            0.990325     0.993448     0.987202\n",
       "2   18467            0.986352     0.988279     0.984425\n",
       "3   17898            0.982546     0.996641     0.968451\n",
       "4  637758            0.982176     0.986457     0.977895"
      ]
     },
     "execution_count": 2,
     "metadata": {},
     "output_type": "execute_result"
    }
   ],
   "source": [
    "# Load the data file \"PredInsights_Agg_sorted_odor_data.txt\".  \n",
    "df = pandas.read_csv('../../data/PredInsights_Agg_sorted_odor_data.txt', \n",
    "                     delimiter='\\t')\n",
    "# First 5 rows of loaded data.  \n",
    "df.head()"
   ]
  },
  {
   "cell_type": "code",
   "execution_count": 3,
   "metadata": {
    "collapsed": false
   },
   "outputs": [
    {
     "name": "stdout",
     "output_type": "stream",
     "text": [
      "5 CIDs with lowest mean correlation:\n",
      "[ 753 7657 8025 5962 5862]\n",
      "64 CIDs with highest mean correlation:\n",
      "[   11567     7797    18467    17898   637758    61523     7793    60998\n",
      "     7137     6544  5281168   251531  5318599    12020  2733294     8878\n",
      "     7770     8815     6669    62351      323 10857465     3314  5364231\n",
      "    31283    31276     7092     7559  5371102   853433  5352837     7476\n",
      "    62089     8094    62465     1031    21363     8468    31219    15654\n",
      "      264      750     8438      702     6322    10886    27440    12265\n",
      "  5281167     9012     8419    12377      262      180     6561      962\n",
      "     8049    16537   440917     7302     6506     6274  1549025     3102]\n"
     ]
    }
   ],
   "source": [
    "worst5 = df.iloc[-5:,0].as_matrix()\n",
    "print(\"5 CIDs with lowest mean correlation:\\n%s\" % worst5)\n",
    "rest64 = df.iloc[:64,0].as_matrix()\n",
    "print(\"64 CIDs with highest mean correlation:\\n%s\" % rest64)"
   ]
  },
  {
   "cell_type": "code",
   "execution_count": 4,
   "metadata": {
    "collapsed": false
   },
   "outputs": [],
   "source": [
    "# Load the CIDs and dilutions for the testset.  \n",
    "CIDs = loading.get_CIDs(\"testset\")\n",
    "CID_dilutions = loading.get_CID_dilutions(\"testset\",target_dilution=-3) # Dilution is irrelevant here.  "
   ]
  },
  {
   "cell_type": "code",
   "execution_count": 5,
   "metadata": {
    "collapsed": false
   },
   "outputs": [],
   "source": [
    "# Load the molecular descriptors data.  \n",
    "molecular_headers, molecular_data = loading.load_molecular_data()\n",
    "molecular_vectors = dream.get_molecular_vectors(molecular_data,CID_dilutions)"
   ]
  },
  {
   "cell_type": "code",
   "execution_count": 6,
   "metadata": {
    "collapsed": false
   },
   "outputs": [
    {
     "name": "stdout",
     "output_type": "stream",
     "text": [
      "Feature matrix for worst 5 molecules has shape (5,4869)\n",
      "Feature matrix for other 64 molecules has shape (64,4869)\n"
     ]
    }
   ],
   "source": [
    "worst5_features = np.array([molecular_vectors[x] for x in worst5])\n",
    "print(\"Feature matrix for worst 5 molecules has shape (%d,%d)\" % worst5_features.shape)\n",
    "\n",
    "rest64_features = np.array([molecular_vectors[x] for x in rest64])\n",
    "print(\"Feature matrix for other 64 molecules has shape (%d,%d)\" % rest64_features.shape)"
   ]
  },
  {
   "cell_type": "code",
   "execution_count": 7,
   "metadata": {
    "collapsed": false
   },
   "outputs": [],
   "source": [
    "from scipy.stats import ttest_ind as ttest\n",
    "n_features = worst5_features.shape[1]\n",
    "p_values = {}\n",
    "for i in range(n_features):\n",
    "    t,p = ttest(worst5_features[:,i], rest64_features[:,i], axis=0)\n",
    "    feature = molecular_headers[i+1] # +1 to avoid the CID index.  \n",
    "    p_values[feature] = {'p':p, \n",
    "                         'bad_mean':worst5_features[:,i].mean(), \n",
    "                         'rest_mean':rest64_features[:,i].mean()}"
   ]
  },
  {
   "cell_type": "code",
   "execution_count": 8,
   "metadata": {
    "collapsed": false
   },
   "outputs": [
    {
     "data": {
      "text/html": [
       "<div>\n",
       "<table border=\"1\" class=\"dataframe\">\n",
       "  <thead>\n",
       "    <tr style=\"text-align: right;\">\n",
       "      <th></th>\n",
       "      <th>p</th>\n",
       "      <th>bad_mean</th>\n",
       "      <th>rest_mean</th>\n",
       "    </tr>\n",
       "  </thead>\n",
       "  <tbody>\n",
       "    <tr>\n",
       "      <th>CATS2D_03_DD</th>\n",
       "      <td>0.000003</td>\n",
       "      <td>0.8000</td>\n",
       "      <td>0.0625</td>\n",
       "    </tr>\n",
       "    <tr>\n",
       "      <th>G(O..S)</th>\n",
       "      <td>0.000196</td>\n",
       "      <td>1.4778</td>\n",
       "      <td>0.0000</td>\n",
       "    </tr>\n",
       "    <tr>\n",
       "      <th>S-106</th>\n",
       "      <td>0.000196</td>\n",
       "      <td>0.2000</td>\n",
       "      <td>0.0000</td>\n",
       "    </tr>\n",
       "    <tr>\n",
       "      <th>B03[N-S]</th>\n",
       "      <td>0.000196</td>\n",
       "      <td>0.2000</td>\n",
       "      <td>0.0000</td>\n",
       "    </tr>\n",
       "    <tr>\n",
       "      <th>F07[N-O]</th>\n",
       "      <td>0.000196</td>\n",
       "      <td>0.4000</td>\n",
       "      <td>0.0000</td>\n",
       "    </tr>\n",
       "  </tbody>\n",
       "</table>\n",
       "</div>"
      ],
      "text/plain": [
       "                     p  bad_mean  rest_mean\n",
       "CATS2D_03_DD  0.000003    0.8000     0.0625\n",
       "G(O..S)       0.000196    1.4778     0.0000\n",
       "S-106         0.000196    0.2000     0.0000\n",
       "B03[N-S]      0.000196    0.2000     0.0000\n",
       "F07[N-O]      0.000196    0.4000     0.0000"
      ]
     },
     "execution_count": 8,
     "metadata": {},
     "output_type": "execute_result"
    }
   ],
   "source": [
    "df = pandas.DataFrame(data=p_values).transpose()\n",
    "df.sort_values('p',inplace=True)\n",
    "df = df[['p', 'bad_mean', 'rest_mean']]\n",
    "df.head() # Smallest 5 p-values.  "
   ]
  },
  {
   "cell_type": "code",
   "execution_count": 9,
   "metadata": {
    "collapsed": false
   },
   "outputs": [
    {
     "data": {
      "text/html": [
       "<div>\n",
       "<table border=\"1\" class=\"dataframe\">\n",
       "  <thead>\n",
       "    <tr style=\"text-align: right;\">\n",
       "      <th></th>\n",
       "      <th>Feature</th>\n",
       "      <th>p-value</th>\n",
       "      <th>BadMean</th>\n",
       "      <th>RestMean</th>\n",
       "    </tr>\n",
       "  </thead>\n",
       "  <tbody>\n",
       "    <tr>\n",
       "      <th>0</th>\n",
       "      <td>CATS2D_03_DD</td>\n",
       "      <td>0.000003</td>\n",
       "      <td>0.8000</td>\n",
       "      <td>0.062500</td>\n",
       "    </tr>\n",
       "    <tr>\n",
       "      <th>1</th>\n",
       "      <td>HATS4s</td>\n",
       "      <td>0.000055</td>\n",
       "      <td>3.9588</td>\n",
       "      <td>1.625500</td>\n",
       "    </tr>\n",
       "    <tr>\n",
       "      <th>2</th>\n",
       "      <td>R4s+</td>\n",
       "      <td>0.000066</td>\n",
       "      <td>0.9992</td>\n",
       "      <td>0.396031</td>\n",
       "    </tr>\n",
       "    <tr>\n",
       "      <th>3</th>\n",
       "      <td>SsSH</td>\n",
       "      <td>0.000196</td>\n",
       "      <td>0.7298</td>\n",
       "      <td>0.000000</td>\n",
       "    </tr>\n",
       "    <tr>\n",
       "      <th>4</th>\n",
       "      <td>G(O..S)</td>\n",
       "      <td>0.000196</td>\n",
       "      <td>1.4778</td>\n",
       "      <td>0.000000</td>\n",
       "    </tr>\n",
       "  </tbody>\n",
       "</table>\n",
       "</div>"
      ],
      "text/plain": [
       "        Feature   p-value   BadMean   RestMean\n",
       "0  CATS2D_03_DD  0.000003    0.8000   0.062500\n",
       "1        HATS4s  0.000055    3.9588   1.625500\n",
       "2          R4s+  0.000066    0.9992   0.396031\n",
       "3          SsSH  0.000196    0.7298   0.000000\n",
       "4       G(O..S)  0.000196    1.4778   0.000000"
      ]
     },
     "execution_count": 9,
     "metadata": {},
     "output_type": "execute_result"
    }
   ],
   "source": [
    "# Compare to the results in the pre-computed \"PredInsights_Fdiffodor.txt\" file.  \n",
    "df_static = pandas.read_csv('../../data/PredInsights_Fdiffodor.txt', \n",
    "                     delimiter='\\t')\n",
    "# First 5 rows of loaded data.  \n",
    "df_static.head()"
   ]
  },
  {
   "cell_type": "markdown",
   "metadata": {},
   "source": [
    "##### Some of the entries from \"PredInsights_Fdiffodor.txt\" are there, but some are missing."
   ]
  },
  {
   "cell_type": "code",
   "execution_count": 10,
   "metadata": {
    "collapsed": false
   },
   "outputs": [
    {
     "data": {
      "text/plain": [
       "p               NaN\n",
       "bad_mean     3.9588\n",
       "rest_mean       NaN\n",
       "Name: HATS4s, dtype: float64"
      ]
     },
     "execution_count": 10,
     "metadata": {},
     "output_type": "execute_result"
    }
   ],
   "source": [
    "# Here is one that is in the \"PredInsights_Fdiffodor.txt\" file as the second smallest p-values, \n",
    "# but has missing data in the Dragon feature list.  \n",
    "df.loc['HATS4s']"
   ]
  }
 ],
 "metadata": {
  "kernelspec": {
   "display_name": "Python 3",
   "language": "python",
   "name": "python3"
  },
  "language_info": {
   "codemirror_mode": {
    "name": "ipython",
    "version": 3
   },
   "file_extension": ".py",
   "mimetype": "text/x-python",
   "name": "python",
   "nbconvert_exporter": "python",
   "pygments_lexer": "ipython3",
   "version": "3.4.1"
  }
 },
 "nbformat": 4,
 "nbformat_minor": 0
}
