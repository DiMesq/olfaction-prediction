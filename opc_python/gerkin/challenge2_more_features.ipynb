{
 "cells": [
  {
   "cell_type": "markdown",
   "metadata": {},
   "source": [
    "### Preliminaries"
   ]
  },
  {
   "cell_type": "code",
   "execution_count": 1,
   "metadata": {
    "collapsed": false
   },
   "outputs": [],
   "source": [
    "# Autoreload all modules when changes are saved. \n",
    "%reload_ext autoreload\n",
    "%autoreload 2  \n",
    "\n",
    "# Show all figures inline.  \n",
    "%matplotlib inline\n",
    "\n",
    "# Add olfaction-prediction to the Python path.  \n",
    "import os\n",
    "import sys\n",
    "curr_path = os.getcwd()\n",
    "gerkin_path = os.path.split(curr_path)[0]\n",
    "olfaction_prediction_path = os.path.split(gerkin_path)[0]\n",
    "sys.path.append(olfaction_prediction_path)\n",
    "import opc_python\n",
    "\n",
    "# Import numerical libraries.  \n",
    "import numpy as np\n",
    "import matplotlib.pyplot as plt"
   ]
  },
  {
   "cell_type": "code",
   "execution_count": 2,
   "metadata": {
    "collapsed": false
   },
   "outputs": [],
   "source": [
    "# Import generic utility modules I wrote to load the data from the tab-delimited text files and to score predictions.  \n",
    "from opc_python.utils import loading, scoring\n",
    "\n",
    "# Import the modules I wrote for actually shaping and fitting the data to the model.  \n",
    "from opc_python.gerkin import dream,fit2"
   ]
  },
  {
   "cell_type": "code",
   "execution_count": 3,
   "metadata": {
    "collapsed": false
   },
   "outputs": [
    {
     "name": "stdout",
     "output_type": "stream",
     "text": [
      "['Compound Identifier', 'Odor', 'Replicate', 'Intensity', 'Dilution', 'subject #', 'INTENSITY/STRENGTH', 'VALENCE/PLEASANTNESS', 'BAKERY', 'SWEET', 'FRUIT', 'FISH', 'GARLIC', 'SPICES', 'COLD', 'SOUR', 'BURNT', 'ACID', 'WARM', 'MUSKY', 'SWEATY', 'AMMONIA/URINOUS', 'DECAYED', 'WOOD', 'GRASS', 'FLOWER', 'CHEMICAL']\n"
     ]
    }
   ],
   "source": [
    "# Load the perceptual descriptors data.  \n",
    "perceptual_headers, perceptual_obs_data = loading.load_perceptual_data('training')\n",
    "loading.format_leaderboard_perceptual_data()\n",
    "# Show the perceptual metadata types and perceptual descriptor names.\n",
    "print(perceptual_headers)"
   ]
  },
  {
   "cell_type": "code",
   "execution_count": 4,
   "metadata": {
    "collapsed": false
   },
   "outputs": [
    {
     "name": "stdout",
     "output_type": "stream",
     "text": [
      "['126', '4-Hydroxybenzaldehyde', False, 'high', '1/10', '1', 37, 60, 0, 72, 0, 0, 0, 0, 0, 0, 0, 0, 0, 0, 0, 0, 0, 0, 0, 0, 0]\n"
     ]
    }
   ],
   "source": [
    "# Show the metadata and perceptual descriptor values for the first compound.\n",
    "print(perceptual_obs_data[1])"
   ]
  },
  {
   "cell_type": "code",
   "execution_count": 5,
   "metadata": {
    "collapsed": false
   },
   "outputs": [
    {
     "name": "stdout",
     "output_type": "stream",
     "text": [
      "There are 21 different perceptual descriptors and 49 different subjects\n"
     ]
    }
   ],
   "source": [
    "num_descriptors = len(perceptual_headers[6:])\n",
    "num_subjects = 49\n",
    "print('There are %d different perceptual descriptors and %d different subjects' % (num_descriptors,num_subjects))"
   ]
  },
  {
   "cell_type": "code",
   "execution_count": 76,
   "metadata": {
    "collapsed": false
   },
   "outputs": [
    {
     "name": "stdout",
     "output_type": "stream",
     "text": [
      "First ten molecular descriptor types are ['CID', 'complexity from pubmed', 'MW', 'AMW', 'Sv', 'Se', 'Sp', 'Si', 'Mv', 'Me']\n",
      "First ten descriptor values for the first compound are ['126', 93.1, 122.13, 8.142, 10.01, 15.305, 10.193, 16.664, 0.667, 1.02]\n",
      "We have molecular descriptors for 476 unique molecules\n"
     ]
    }
   ],
   "source": [
    "# Load the molecular descriptors data.  \n",
    "molecular_headers, molecular_data = loading.load_molecular_data()\n",
    "print(\"First ten molecular descriptor types are %s\" % molecular_headers[:10])\n",
    "print(\"First ten descriptor values for the first compound are %s\" % molecular_data[0][:10])\n",
    "total_size = len(set([int(row[0]) for row in molecular_data]))\n",
    "print(\"We have molecular descriptors for %d unique molecules\" % total_size)"
   ]
  },
  {
   "cell_type": "code",
   "execution_count": 7,
   "metadata": {
    "collapsed": false
   },
   "outputs": [
    {
     "name": "stdout",
     "output_type": "stream",
     "text": [
      "We have perceptual data for 338 unique molecules\n",
      "138 are left out for testing in the competition; half of these (69) are used for the leaderboard.\n"
     ]
    }
   ],
   "source": [
    "training_size = len(set([int(row[0]) for row in perceptual_obs_data]))\n",
    "print(\"We have perceptual data for %d unique molecules\" % training_size)\n",
    "remaining_size = total_size - training_size\n",
    "print (\"%d are left out for testing in the competition; half of these (%d) are used for the leaderboard.\" \\\n",
    "       % (remaining_size,remaining_size/2))"
   ]
  },
  {
   "cell_type": "code",
   "execution_count": 8,
   "metadata": {
    "collapsed": false
   },
   "outputs": [
    {
     "name": "stdout",
     "output_type": "stream",
     "text": [
      "There are 35084 rows in the perceptual data set (at least one for each subject and molecule)\n",
      "1960 of these are replicates (same subject and molecules)\n"
     ]
    }
   ],
   "source": [
    "print(\"There are %d rows in the perceptual data set (at least one for each subject and molecule)\" % len(perceptual_obs_data))\n",
    "print(\"%d of these are replicates (same subject and molecules)\" % sum([x[2] for x in perceptual_obs_data]))"
   ]
  },
  {
   "cell_type": "code",
   "execution_count": 9,
   "metadata": {
    "collapsed": false
   },
   "outputs": [],
   "source": [
    "all_CIDs = sorted(loading.get_CIDs('training')+loading.get_CIDs('leaderboard')+loading.get_CIDs('testset'))\n",
    "DATA = '/Users/rgerkin/Dropbox/science/olfaction-prediction/data/'\n",
    "import pandas"
   ]
  },
  {
   "cell_type": "code",
   "execution_count": 10,
   "metadata": {
    "collapsed": false
   },
   "outputs": [
    {
     "data": {
      "text/plain": [
       "(476, 62)"
      ]
     },
     "execution_count": 10,
     "metadata": {},
     "output_type": "execute_result"
    }
   ],
   "source": [
    "episuite = pandas.read_table('%s/DREAM_episuite_descriptors.txt' % DATA)\n",
    "episuite.iloc[:,49] = 1*(episuite.iloc[:,49]=='YES ')\n",
    "episuite.iloc[:,49]\n",
    "episuite = episuite.iloc[:,2:].as_matrix()\n",
    "episuite.shape"
   ]
  },
  {
   "cell_type": "code",
   "execution_count": 42,
   "metadata": {
    "collapsed": false
   },
   "outputs": [
    {
     "data": {
      "text/plain": [
       "(476, 11786)"
      ]
     },
     "execution_count": 42,
     "metadata": {},
     "output_type": "execute_result"
    }
   ],
   "source": [
    "verbal = pandas.read_table('%s/name_features.txt' % DATA, sep='\\t', header=None)\n",
    "verbal = verbal.as_matrix()[:,1:]\n",
    "verbal.shape"
   ]
  },
  {
   "cell_type": "code",
   "execution_count": 12,
   "metadata": {
    "collapsed": false
   },
   "outputs": [
    {
     "data": {
      "text/plain": [
       "(476, 2437)"
      ]
     },
     "execution_count": 12,
     "metadata": {},
     "output_type": "execute_result"
    }
   ],
   "source": [
    "morgan = pandas.read_csv('%s/morgan_sim.csv' % DATA)\n",
    "morgan = morgan.as_matrix()[:,1:]\n",
    "morgan.shape"
   ]
  },
  {
   "cell_type": "code",
   "execution_count": 13,
   "metadata": {
    "collapsed": false
   },
   "outputs": [],
   "source": [
    "with open('%s/derived/nspdk_r3_d4_unaug.svm' % DATA) as f:\n",
    "    nspdk_dict = {}\n",
    "    i = 0\n",
    "    while True:\n",
    "        x = f.readline()\n",
    "        if(len(x)):\n",
    "            key_vals = x.split(' ')[1:]\n",
    "            for key_val in key_vals:\n",
    "                key,val = key_val.split(':')\n",
    "                if key in nspdk_dict:\n",
    "                    nspdk_dict[key][all_CIDs[i]] = val\n",
    "                else:\n",
    "                    nspdk_dict[key] = {all_CIDs[i]:val}\n",
    "            i+=1\n",
    "            if i == len(all_CIDs):\n",
    "                break\n",
    "        else:\n",
    "            break\n",
    "nspdk_dict = {key:value for key,value in nspdk_dict.items() if len(value)>1}"
   ]
  },
  {
   "cell_type": "code",
   "execution_count": 14,
   "metadata": {
    "collapsed": false
   },
   "outputs": [
    {
     "data": {
      "text/plain": [
       "(476, 6163)"
      ]
     },
     "execution_count": 14,
     "metadata": {},
     "output_type": "execute_result"
    }
   ],
   "source": [
    "nspdk = np.zeros((len(all_CIDs),len(nspdk_dict)))\n",
    "for j,(feature,facts) in enumerate(nspdk_dict.items()):\n",
    "    for CID,value in facts.items():\n",
    "        i = all_CIDs.index(CID)\n",
    "        nspdk[i,j] = value\n",
    "nspdk.shape"
   ]
  },
  {
   "cell_type": "code",
   "execution_count": 52,
   "metadata": {
    "collapsed": false
   },
   "outputs": [
    {
     "data": {
      "text/plain": [
       "(476, 2437)"
      ]
     },
     "execution_count": 52,
     "metadata": {},
     "output_type": "execute_result"
    }
   ],
   "source": [
    "nspdk_gramian = pandas.read_table('%s/derived/nspdk_r3_d4_unaug_gramian.mtx' % DATA, delimiter=' ', header=None)\n",
    "nspdk_gramian = nspdk_gramian.as_matrix()[:len(all_CIDs),:]\n",
    "nspdk_gramian.shape"
   ]
  },
  {
   "cell_type": "code",
   "execution_count": 78,
   "metadata": {
    "collapsed": false
   },
   "outputs": [],
   "source": [
    "molecular_data_types = ['dragon','dragon+episuite','dragon+verbal','dragon+morgan',\n",
    "                                                          'dragon+nspdk','dragon+nspdk_gramian','dragon+all']\n",
    "molecular_data = {mdt:molecular_data.copy() for mdt in molecular_data_types}\n",
    "for i,line in enumerate(molecular_data['dragon']):\n",
    "    CID = int(line[0])\n",
    "    index = all_CIDs.index(CID)\n",
    "    molecular_data['dragon+episuite'][i] = line + list(episuite[index])\n",
    "    molecular_data['dragon+verbal'][i] = line + list(verbal[index])\n",
    "    molecular_data['dragon+morgan'][i] = line + list(morgan[index])\n",
    "    molecular_data['dragon+nspdk'][i] = line + list(nspdk[index])\n",
    "    molecular_data['dragon+nspdk_gramian'][i] = line + list(nspdk_gramian[index])\n",
    "    molecular_data['dragon+all'][i] = line + list(episuite[index]) + list(morgan[index]) + list(nspdk[index]) + list(nspdk_gramian[index])"
   ]
  },
  {
   "cell_type": "markdown",
   "metadata": {},
   "source": [
    "### Create Molecular Matrix"
   ]
  },
  {
   "cell_type": "code",
   "execution_count": 79,
   "metadata": {
    "collapsed": false
   },
   "outputs": [
    {
     "name": "stdout",
     "output_type": "stream",
     "text": [
      "There are now 676 molecular vectors of length 4871, one for each molecule and dilution\n",
      "The X matrix now has shape (676x3033) molecules by non-NaN good molecular descriptors\n",
      "There are now 69 molecular vectors of length 4871, one for each molecule and dilution\n",
      "The X matrix now has shape (69x3033) molecules by non-NaN good molecular descriptors\n",
      "There are now 69 molecular vectors of length 4871, one for each molecule and dilution\n",
      "The X matrix now has shape (69x3033) molecules by non-NaN good molecular descriptors\n",
      "There are now 69 molecular vectors of length 4871, one for each molecule and dilution\n",
      "The X matrix now has shape (69x3033) molecules by non-NaN good molecular descriptors\n",
      "There are now 69 molecular vectors of length 4871, one for each molecule and dilution\n",
      "The X matrix now has shape (69x3033) molecules by non-NaN good molecular descriptors\n",
      "There are now 814 molecular vectors of length 4871, one for each molecule and dilution\n",
      "The X matrix now has shape (814x3033) molecules by non-NaN good molecular descriptors\n",
      "There are now 676 molecular vectors of length 4933, one for each molecule and dilution\n",
      "The X matrix now has shape (676x3089) molecules by non-NaN good molecular descriptors\n",
      "There are now 69 molecular vectors of length 4933, one for each molecule and dilution\n",
      "The X matrix now has shape (69x3089) molecules by non-NaN good molecular descriptors\n",
      "There are now 69 molecular vectors of length 4933, one for each molecule and dilution\n",
      "The X matrix now has shape (69x3089) molecules by non-NaN good molecular descriptors\n",
      "There are now 676 molecular vectors of length 16657, one for each molecule and dilution\n",
      "The X matrix now has shape (676x14801) molecules by non-NaN good molecular descriptors\n",
      "There are now 69 molecular vectors of length 16657, one for each molecule and dilution\n",
      "The X matrix now has shape (69x14801) molecules by non-NaN good molecular descriptors\n",
      "There are now 69 molecular vectors of length 16657, one for each molecule and dilution\n",
      "The X matrix now has shape (69x14801) molecules by non-NaN good molecular descriptors\n",
      "There are now 676 molecular vectors of length 7308, one for each molecule and dilution\n",
      "The X matrix now has shape (676x5467) molecules by non-NaN good molecular descriptors\n",
      "There are now 69 molecular vectors of length 7308, one for each molecule and dilution\n",
      "The X matrix now has shape (69x5467) molecules by non-NaN good molecular descriptors\n",
      "There are now 69 molecular vectors of length 7308, one for each molecule and dilution\n",
      "The X matrix now has shape (69x5467) molecules by non-NaN good molecular descriptors\n",
      "There are now 676 molecular vectors of length 11034, one for each molecule and dilution\n",
      "The X matrix now has shape (676x8989) molecules by non-NaN good molecular descriptors\n",
      "There are now 69 molecular vectors of length 11034, one for each molecule and dilution\n",
      "The X matrix now has shape (69x8989) molecules by non-NaN good molecular descriptors\n",
      "There are now 69 molecular vectors of length 11034, one for each molecule and dilution\n",
      "The X matrix now has shape (69x8989) molecules by non-NaN good molecular descriptors\n",
      "There are now 676 molecular vectors of length 7308, one for each molecule and dilution\n",
      "The X matrix now has shape (676x5468) molecules by non-NaN good molecular descriptors\n",
      "There are now 69 molecular vectors of length 7308, one for each molecule and dilution\n",
      "The X matrix now has shape (69x5468) molecules by non-NaN good molecular descriptors\n",
      "There are now 69 molecular vectors of length 7308, one for each molecule and dilution\n",
      "The X matrix now has shape (69x5468) molecules by non-NaN good molecular descriptors\n",
      "There are now 676 molecular vectors of length 15970, one for each molecule and dilution\n",
      "The X matrix now has shape (676x13914) molecules by non-NaN good molecular descriptors\n",
      "There are now 69 molecular vectors of length 15970, one for each molecule and dilution\n",
      "The X matrix now has shape (69x13914) molecules by non-NaN good molecular descriptors\n",
      "There are now 69 molecular vectors of length 15970, one for each molecule and dilution\n",
      "The X matrix now has shape (69x13914) molecules by non-NaN good molecular descriptors\n"
     ]
    }
   ],
   "source": [
    "X_training = {mdt:None for mdt in molecular_data_types}\n",
    "X_leaderboard_other = {mdt:None for mdt in molecular_data_types}\n",
    "X_leaderboard_int = {mdt:None for mdt in molecular_data_types}\n",
    "for mdt in molecular_data_types:\n",
    "    X_training[mdt],good1,good2,means,stds,imputer = dream.make_X(molecular_data[mdt],\"training\")\n",
    "    X_leaderboard_other[mdt],good1,good2,means,stds,imputer = dream.make_X(molecular_data[mdt],\"leaderboard\",target_dilution='high',good1=good1,good2=good2,means=means,stds=stds)\n",
    "    X_leaderboard_int[mdt],good1,good2,means,stds,imputer = dream.make_X(molecular_data[mdt],\"leaderboard\",target_dilution=-3,good1=good1,good2=good2,means=means,stds=stds)\n",
    "    if mdt == 'dragon':\n",
    "        X_testset_other,good1,good2,means,stds,imputer = dream.make_X(molecular_data[mdt],\"testset\",target_dilution='high',good1=good1,good2=good2,means=means,stds=stds)\n",
    "        X_testset_int,good1,good2,means,stds,imputer = dream.make_X(molecular_data[mdt],\"testset\",target_dilution=-3,good1=good1,good2=good2,means=means,stds=stds)\n",
    "        X_all,good1,good2,means,stds,imputer = dream.make_X(molecular_data[mdt],['training','leaderboard'],good1=good1,good2=good2,means=means,stds=stds)"
   ]
  },
  {
   "cell_type": "code",
   "execution_count": 57,
   "metadata": {
    "collapsed": false
   },
   "outputs": [
    {
     "name": "stdout",
     "output_type": "stream",
     "text": [
      "Getting basic perceptual data...\n",
      "Flattening into vectors...\n",
      "Assembling into matrices...\n",
      "Y_obs['subject'] contains 49 matrices each with shape (676x21) (molecules by perceptual descriptors)\n",
      "The Y_obs['mean_std'] matrix has shape (676x42) (molecules by 2 x perceptual descriptors)\n",
      "Combining Y matrices...\n",
      "The Y['mean_std'] matrix now has shape (676x42) molecules by 2 x perceptual descriptors\n",
      "The Y['subject'] dict now has 49 matrices of shape (676x21) molecules by perceptual descriptors, one for each subject\n",
      "Getting basic perceptual data...\n",
      "Flattening into vectors...\n",
      "Assembling into matrices...\n",
      "Y_obs['subject'] contains 49 matrices each with shape (676x21) (molecules by perceptual descriptors)\n",
      "The Y_obs['mean_std'] matrix has shape (676x42) (molecules by 2 x perceptual descriptors)\n",
      "Combining Y matrices...\n",
      "The Y['mean_std'] matrix now has shape (676x42) molecules by 2 x perceptual descriptors\n",
      "The Y['subject'] dict now has 49 matrices of shape (676x21) molecules by perceptual descriptors, one for each subject\n"
     ]
    }
   ],
   "source": [
    "Y_training_imp,imputer = dream.make_Y_obs('training',target_dilution=None,imputer='median')\n",
    "Y_training_mask,imputer = dream.make_Y_obs('training',target_dilution=None,imputer='mask')"
   ]
  },
  {
   "cell_type": "code",
   "execution_count": 58,
   "metadata": {
    "collapsed": false
   },
   "outputs": [
    {
     "name": "stdout",
     "output_type": "stream",
     "text": [
      "Getting basic perceptual data...\n",
      "Flattening into vectors...\n",
      "Assembling into matrices...\n",
      "Y_obs['subject'] contains 49 matrices each with shape (69x21) (molecules by perceptual descriptors)\n",
      "The Y_obs['mean_std'] matrix has shape (69x42) (molecules by 2 x perceptual descriptors)\n",
      "Combining Y matrices...\n",
      "The Y['mean_std'] matrix now has shape (69x42) molecules by 2 x perceptual descriptors\n",
      "The Y['subject'] dict now has 49 matrices of shape (69x21) molecules by perceptual descriptors, one for each subject\n",
      "Getting basic perceptual data...\n",
      "Flattening into vectors...\n",
      "Assembling into matrices...\n",
      "Y_obs['subject'] contains 49 matrices each with shape (69x21) (molecules by perceptual descriptors)\n",
      "The Y_obs['mean_std'] matrix has shape (69x42) (molecules by 2 x perceptual descriptors)\n",
      "Combining Y matrices...\n",
      "The Y['mean_std'] matrix now has shape (69x42) molecules by 2 x perceptual descriptors\n",
      "The Y['subject'] dict now has 49 matrices of shape (69x21) molecules by perceptual descriptors, one for each subject\n"
     ]
    }
   ],
   "source": [
    "Y_leaderboard,imputer = dream.make_Y_obs('leaderboard',target_dilution='gold',imputer='mask')"
   ]
  },
  {
   "cell_type": "code",
   "execution_count": 59,
   "metadata": {
    "collapsed": false
   },
   "outputs": [
    {
     "name": "stdout",
     "output_type": "stream",
     "text": [
      "Getting basic perceptual data...\n",
      "Flattening into vectors...\n",
      "Assembling into matrices...\n",
      "Y_obs['subject'] contains 49 matrices each with shape (69x21) (molecules by perceptual descriptors)\n",
      "The Y_obs['mean_std'] matrix has shape (69x42) (molecules by 2 x perceptual descriptors)\n",
      "Combining Y matrices...\n",
      "The Y['mean_std'] matrix now has shape (69x42) molecules by 2 x perceptual descriptors\n",
      "The Y['subject'] dict now has 49 matrices of shape (69x21) molecules by perceptual descriptors, one for each subject\n",
      "Getting basic perceptual data...\n",
      "Flattening into vectors...\n",
      "Assembling into matrices...\n",
      "Y_obs['subject'] contains 49 matrices each with shape (69x21) (molecules by perceptual descriptors)\n",
      "The Y_obs['mean_std'] matrix has shape (69x42) (molecules by 2 x perceptual descriptors)\n",
      "Combining Y matrices...\n",
      "The Y['mean_std'] matrix now has shape (69x42) molecules by 2 x perceptual descriptors\n",
      "The Y['subject'] dict now has 49 matrices of shape (69x21) molecules by perceptual descriptors, one for each subject\n"
     ]
    }
   ],
   "source": [
    "Y_leaderboard_noimpute,_ = dream.make_Y_obs('leaderboard',target_dilution='gold',imputer=None)"
   ]
  },
  {
   "cell_type": "code",
   "execution_count": 60,
   "metadata": {
    "collapsed": false
   },
   "outputs": [
    {
     "name": "stdout",
     "output_type": "stream",
     "text": [
      "Getting basic perceptual data...\n",
      "Flattening into vectors...\n",
      "Assembling into matrices...\n",
      "Y_obs['subject'] contains 49 matrices each with shape (676x21) (molecules by perceptual descriptors)\n",
      "The Y_obs['mean_std'] matrix has shape (676x42) (molecules by 2 x perceptual descriptors)\n",
      "Getting basic perceptual data...\n",
      "Flattening into vectors...\n",
      "Assembling into matrices...\n",
      "Y_obs['subject'] contains 49 matrices each with shape (138x21) (molecules by perceptual descriptors)\n",
      "The Y_obs['mean_std'] matrix has shape (138x42) (molecules by 2 x perceptual descriptors)\n",
      "Combining Y matrices...\n",
      "The Y['mean_std'] matrix now has shape (814x42) molecules by 2 x perceptual descriptors\n",
      "The Y['subject'] dict now has 49 matrices of shape (814x21) molecules by perceptual descriptors, one for each subject\n"
     ]
    }
   ],
   "source": [
    "Y_all_imp,imputer = dream.make_Y_obs(['training','leaderboard'],target_dilution=None,imputer='median')"
   ]
  },
  {
   "cell_type": "code",
   "execution_count": 61,
   "metadata": {
    "collapsed": false
   },
   "outputs": [
    {
     "name": "stdout",
     "output_type": "stream",
     "text": [
      "Getting basic perceptual data...\n",
      "Flattening into vectors...\n",
      "Assembling into matrices...\n",
      "Y_obs['subject'] contains 49 matrices each with shape (676x21) (molecules by perceptual descriptors)\n",
      "The Y_obs['mean_std'] matrix has shape (676x42) (molecules by 2 x perceptual descriptors)\n",
      "Getting basic perceptual data...\n",
      "Flattening into vectors...\n",
      "Assembling into matrices...\n",
      "Y_obs['subject'] contains 49 matrices each with shape (138x21) (molecules by perceptual descriptors)\n",
      "The Y_obs['mean_std'] matrix has shape (138x42) (molecules by 2 x perceptual descriptors)\n",
      "Combining Y matrices...\n",
      "The Y['mean_std'] matrix now has shape (814x42) molecules by 2 x perceptual descriptors\n",
      "The Y['subject'] dict now has 49 matrices of shape (814x21) molecules by perceptual descriptors, one for each subject\n"
     ]
    }
   ],
   "source": [
    "Y_all_mask,imputer = dream.make_Y_obs(['training','leaderboard'],target_dilution=None,imputer='mask')"
   ]
  },
  {
   "cell_type": "code",
   "execution_count": 62,
   "metadata": {
    "collapsed": false
   },
   "outputs": [
    {
     "data": {
      "text/plain": [
       "<matplotlib.collections.PathCollection at 0x110f455f8>"
      ]
     },
     "execution_count": 62,
     "metadata": {},
     "output_type": "execute_result"
    },
    {
     "data": {
      "image/png": "[encoded data removed]",
      "text/plain": [
       "<matplotlib.figure.Figure at 0x10b281128>"
      ]
     },
     "metadata": {},
     "output_type": "display_data"
    }
   ],
   "source": [
    "plt.scatter(Y_all_mask['mean_std'][:,0],Y_all_mask['mean_std'][:,21])"
   ]
  },
  {
   "cell_type": "markdown",
   "metadata": {},
   "source": [
    "### Data preparation"
   ]
  },
  {
   "cell_type": "code",
   "execution_count": 63,
   "metadata": {
    "collapsed": false
   },
   "outputs": [
    {
     "data": {
      "image/png": "[encoded data removed]",
      "text/plain": [
       "<matplotlib.figure.Figure at 0x10b2a6390>"
      ]
     },
     "metadata": {},
     "output_type": "display_data"
    },
    {
     "data": {
      "image/png": "[encoded data removed]",
      "text/plain": [
       "<matplotlib.figure.Figure at 0x110f814e0>"
      ]
     },
     "metadata": {},
     "output_type": "display_data"
    }
   ],
   "source": [
    "# Show the range of values for the molecular and perceptual descriptors.  \n",
    "plt.hist(X_training['dragon+all'].ravel())\n",
    "plt.yscale('log')\n",
    "plt.ylabel('Count')\n",
    "plt.xlabel('Cube root transformed, N(0,1) normalized molecular descriptor values')\n",
    "plt.figure()\n",
    "plt.hist(Y_training_imp['mean_std'][:21].ravel())\n",
    "plt.yscale('log')\n",
    "plt.ylabel('Count')\n",
    "_ = plt.xlabel('Perceptual descriptor subject-averaged values')"
   ]
  },
  {
   "cell_type": "markdown",
   "metadata": {},
   "source": [
    "## Fitting and Generating Submission Files"
   ]
  },
  {
   "cell_type": "code",
   "execution_count": 64,
   "metadata": {
    "collapsed": false
   },
   "outputs": [],
   "source": [
    "write = True # Set to True to actually generate the prediction files.  \n",
    "n_estimators = 1000 # Set this to a high number (e.g. 1000) to get a good fit.  \n",
    "\n",
    "# Best parameters, determined independently.  \n",
    "max_features = {'int':{'mean':None,'sigma':None},\n",
    "                'ple':{'mean':100,'sigma':None},\n",
    "                'dec':{'mean':500,'sigma':500}}\n",
    "min_samples_leaf = {'int':{'mean':1,'sigma':4},\n",
    "                'ple':{'mean':1,'sigma':1},\n",
    "                'dec':{'mean':1,'sigma':1}}\n",
    "max_depth = {'int':{'mean':None,'sigma':2},\n",
    "                'ple':{'mean':10,'sigma':10},\n",
    "                'dec':{'mean':10,'sigma':10}}\n",
    "et = {'int':{'mean':True,'sigma':True},\n",
    "                'ple':{'mean':False,'sigma':False},\n",
    "                'dec':{'mean':False,'sigma':False}}\n",
    "#et['int'] = {'mean':False,'sigma':False} # Uncomment to get a correct score estimate, or leave commented to get best fit.  \n",
    "use_mask = {'int':{'mean':False,'sigma':True},\n",
    "                'ple':{'mean':False,'sigma':True},\n",
    "                'dec':{'mean':False,'sigma':True}}"
   ]
  },
  {
   "cell_type": "code",
   "execution_count": 80,
   "metadata": {
    "collapsed": false
   },
   "outputs": [
    {
     "name": "stdout",
     "output_type": "stream",
     "text": [
      "dragon\n",
      "dragon+episuite\n",
      "dragon+verbal\n",
      "dragon+morgan\n",
      "dragon+nspdk\n",
      "dragon+nspdk_gramian\n",
      "dragon+all\n",
      "For subchallenge 2:\n",
      "\tScore = 8.10\n",
      "\tint_mean = 1.000\n",
      "\tint_sigma = 0.152\n",
      "\tple_mean = 0.662\n",
      "\tple_sigma = 0.278\n",
      "\tdec_mean = 0.476\n",
      "\tdec_sigma = 0.375\n"
     ]
    }
   ],
   "source": [
    "# Fit training data.  Ignoring warning that arises if too few trees are used.  \n",
    "#rfcs_leaderboard = {mdt:None for mdt in molecular_data_types}\n",
    "for mdt in molecular_data_types:\n",
    "    print(mdt)\n",
    "    if mdt != 'dragon+all':\n",
    "        continue\n",
    "    rfcs_leaderboard[mdt],score,rs = fit2.rfc_final(X_training[mdt],Y_training_imp['mean_std'],Y_training_mask['mean_std'],\n",
    "                            max_features,min_samples_leaf,max_depth,et,use_mask,\n",
    "                            n_estimators=n_estimators)"
   ]
  },
  {
   "cell_type": "code",
   "execution_count": 81,
   "metadata": {
    "collapsed": false
   },
   "outputs": [
    {
     "name": "stdout",
     "output_type": "stream",
     "text": [
      "dragon\n",
      "Score: 8.614029; rs = 0.658,0.517,0.522,0.385,0.244,0.479\n",
      "dragon+episuite\n",
      "Score: 8.716942; rs = 0.665,0.509,0.535,0.372,0.238,0.487\n",
      "dragon+verbal\n",
      "Score: 8.299890; rs = 0.662,0.498,0.506,0.260,0.274,0.468\n",
      "dragon+morgan\n",
      "Score: 8.746169; rs = 0.650,0.532,0.535,0.330,0.272,0.492\n",
      "dragon+nspdk\n",
      "Score: 9.138397; rs = 0.684,0.577,0.551,0.447,0.256,0.500\n",
      "dragon+nspdk_gramian\n",
      "Score: 8.953301; rs = 0.633,0.571,0.543,0.429,0.233,0.499\n",
      "dragon+all\n",
      "Score: 9.055417; rs = 0.648,0.573,0.555,0.371,0.273,0.504\n"
     ]
    }
   ],
   "source": [
    "for mdt in molecular_data_types:\n",
    "    print(mdt)\n",
    "    loading.make_prediction_files(rfcs_leaderboard[mdt],X_leaderboard_int[mdt],X_leaderboard_other[mdt],\n",
    "                                  'leaderboard_%s' % mdt,2,Y_test=Y_leaderboard_noimpute,write=False)"
   ]
  },
  {
   "cell_type": "code",
   "execution_count": 46,
   "metadata": {
    "collapsed": false
   },
   "outputs": [
    {
     "name": "stdout",
     "output_type": "stream",
     "text": [
      "dragon0.658\t0.517\t0.522\t0.385\t0.244\t0.479\n",
      "dragon+episuite0.665\t0.509\t0.535\t0.372\t0.238\t0.487\n",
      "dragon+verbal0.662\t0.498\t0.506\t0.26\t0.274\t0.468\n",
      "dragon+morgan0.65\t0.532\t0.535\t0.33\t0.272\t0.492\n",
      "dragon+nspdk0.684\t0.577\t0.551\t0.447\t0.256\t0.5\n",
      "dragon+all0.655\t0.551\t0.535\t0.269\t0.311\t0.486\n"
     ]
    }
   ],
   "source": [
    "rs_ = [[0.658,0.517,0.522,0.385,0.244,0.479],[0.665,0.509,0.535,0.372,0.238,0.487],[0.662,0.498,0.506,0.260,0.274,0.468],\n",
    "[0.650,0.532,0.535,0.330,0.272,0.492],[0.684,0.577,0.551,0.447,0.256,0.500],[0.655,0.551,0.535,0.269,0.311,0.486]]\n",
    "for i,challenge in enumerate(rs_):\n",
    "    print(molecular_data_types[i]+'\\t'.join(str(x) for x in challenge))\n",
    "        "
   ]
  },
  {
   "cell_type": "code",
   "execution_count": 23,
   "metadata": {
    "collapsed": false
   },
   "outputs": [
    {
     "name": "stdout",
     "output_type": "stream",
     "text": [
      "For subchallenge 2:\n",
      "\tScore = 2.83\n",
      "\tint_mean = 1.000\n",
      "\tint_sigma = 0.126\n",
      "\tple_mean = 0.009\n",
      "\tple_sigma = -0.010\n",
      "\tdec_mean = 0.133\n",
      "\tdec_sigma = 0.072\n"
     ]
    }
   ],
   "source": [
    "rfcs,score,rs = fit2.rfc_final(X_all,Y_all_imp['mean_std'],Y_all_mask['mean_std'],\n",
    "                            max_features,min_samples_leaf,max_depth,et,use_mask,\n",
    "                            n_estimators=n_estimators)"
   ]
  },
  {
   "cell_type": "code",
   "execution_count": 24,
   "metadata": {
    "collapsed": false
   },
   "outputs": [
    {
     "data": {
      "text/plain": [
       "{'mean_std': array([[ 33.26530612,  44.62244898,   2.12244898, ...,   9.93389033,\n",
       "          10.11045229,  21.72142009],\n",
       "        [ 12.95918367,  48.15306122,   0.91836735, ...,   7.59583474,\n",
       "          18.41829388,  22.26213039],\n",
       "        [ 21.16326531,  44.62244898,   8.12244898, ...,   4.7887756 ,\n",
       "           8.37787436,  24.78012562],\n",
       "        ..., \n",
       "        [ 39.53061224,  59.50204082,   3.82780612, ...,  12.27196668,\n",
       "          22.87507041,  19.62084018],\n",
       "        [ 18.3877551 ,  57.82653061,   1.42212675, ...,   8.39165909,\n",
       "          14.20939341,  23.09079336],\n",
       "        [ 29.08163265,  49.21836735,   3.95918367, ...,  11.30602357,\n",
       "          31.18954828,  22.55003619]]), 'subject': {}}"
      ]
     },
     "execution_count": 24,
     "metadata": {},
     "output_type": "execute_result"
    }
   ],
   "source": [
    "loading.make_prediction_files(rfcs,X_testset_int,X_testset_other,'testset',2,write=False)"
   ]
  }
 ],
 "metadata": {
  "kernelspec": {
   "display_name": "Python 3",
   "language": "python",
   "name": "python3"
  },
  "language_info": {
   "codemirror_mode": {
    "name": "ipython",
    "version": 3
   },
   "file_extension": ".py",
   "mimetype": "text/x-python",
   "name": "python",
   "nbconvert_exporter": "python",
   "pygments_lexer": "ipython3",
   "version": "3.4.1"
  }
 },
 "nbformat": 4,
 "nbformat_minor": 0
}
