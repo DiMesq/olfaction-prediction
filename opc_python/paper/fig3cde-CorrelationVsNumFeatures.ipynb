{
 "cells": [
  {
   "cell_type": "markdown",
   "metadata": {
    "deletable": true,
    "editable": true
   },
   "source": [
    "## Figure 3c,d,e"
   ]
  },
  {
   "cell_type": "code",
   "execution_count": 1,
   "metadata": {
    "collapsed": false,
    "deletable": true,
    "editable": true
   },
   "outputs": [],
   "source": [
    "# Preliminaries to work with the data.   \n",
    "%matplotlib inline\n",
    "%run __init__.py\n",
    "import subprocess\n",
    "from utils import loading, scoring\n",
    "from gerkin import dream,params,fit2\n",
    "import numpy as np\n",
    "import matplotlib.pyplot as plt\n",
    "import pandas as pd"
   ]
  },
  {
   "cell_type": "code",
   "execution_count": 2,
   "metadata": {
    "collapsed": false,
    "deletable": true,
    "editable": true
   },
   "outputs": [],
   "source": [
    "# Get the current git hash to save/load models for this version of the code.  \n",
    "git_hash = subprocess.getoutput(\"git log --pretty=format:'%h' -n 1\")"
   ]
  },
  {
   "cell_type": "code",
   "execution_count": 3,
   "metadata": {
    "collapsed": false,
    "deletable": true,
    "editable": true
   },
   "outputs": [
    {
     "name": "stdout",
     "output_type": "stream",
     "text": [
      "Dragon has 4869 features for 476 molecules.\n",
      "Morgan has 2437 features for 476 molecules.\n",
      "There are now 7306 total features.\n"
     ]
    }
   ],
   "source": [
    "# Load the data\n",
    "sets = ['training','leaderboard','testset']\n",
    "descriptors = loading.get_descriptors(format='True')\n",
    "all_CIDs = loading.get_CIDs(sets)\n",
    "all_CID_dilutions = loading.get_CID_dilutions(sets)\n",
    "#features = dream.get_molecular_data(['dragon','episuite','morgan','nspdk','gramian'],all_CIDs)\n",
    "features = loading.get_molecular_data(['dragon','morgan'],all_CIDs)"
   ]
  },
  {
   "cell_type": "code",
   "execution_count": null,
   "metadata": {
    "collapsed": false,
    "deletable": true,
    "editable": true
   },
   "outputs": [
    {
     "name": "stdout",
     "output_type": "stream",
     "text": [
      "The X matrix now has shape (952x5519) molecules by non-NaN good molecular descriptors\n",
      "The X matrix now has shape (952x14614) molecules by non-NaN good molecular descriptors\n"
     ]
    }
   ],
   "source": [
    "# Create the feature and descriptor arrays \n",
    "X_rf = dream.make_X(features,all_CID_dilutions)[0]\n",
    "X_lin = dream.quad_prep(features,all_CID_dilutions)\n",
    "Y = loading.load_perceptual_data(sets)\n",
    "Y = dream.filter_Y_dilutions(Y,concentration='all') # Average over replicates"
   ]
  },
  {
   "cell_type": "markdown",
   "metadata": {
    "deletable": true,
    "editable": true
   },
   "source": [
    "### Load or compute the random forest model"
   ]
  },
  {
   "cell_type": "code",
   "execution_count": null,
   "metadata": {
    "collapsed": false,
    "deletable": true,
    "editable": true
   },
   "outputs": [
    {
     "name": "stdout",
     "output_type": "stream",
     "text": [
      "[                       1%                       ] 2 out of 105 complete (Fitting descriptor #0, split #2)"
     ]
    }
   ],
   "source": [
    "# Load or compute the random forest model correlations (obtained from cross-validation)\n",
    "use_saved_rf_model = False #  Change this to a git hash to use a corresponding pre-computed model,\n",
    "                           # to 'Old' to use the exact model used in the paper, \n",
    "                           # or to False to compute the model.  \n",
    "n_splits = 5#100\n",
    "n_estimators = 50\n",
    "n_features_list = [1,2,3,4,5,10,33,100,333,1000,3333,10000]\n",
    "if use_saved_rf_model == 'Old': # Legacy\n",
    "    rs0 = np.load('../../data/forest_rs_250_0.npy')\n",
    "    rs0_9 = np.load('../../data/forest_rs_250_0-9.npy')\n",
    "    rs10_20 = np.load('../../data/forest_rs_250_10-20.npy')\n",
    "    rs_forest = rs0_9.copy()\n",
    "    rs_forest[0,:,:] = rs0[0,:,:]\n",
    "    rs_forest[10:,:,:] = rs10_20[10:,:,:]\n",
    "    rs_forest = np.ma.array(rs_forest,mask=np.isnan(rs_forest))\n",
    "elif type(use_saved_rf_model) is str:\n",
    "    rs_forest = np.load('../../data/rs_forest_%d_%s.npy' % (n_estimators,use_saved_rf_model))\n",
    "else:\n",
    "    trans_params = params.get_trans_params(Y, descriptors, plot=False)\n",
    "    use_et, max_features, max_depth, min_samples_leaf, trans_weight, regularize, use_mask = params.get_other_params()\n",
    "    rs_forest = fit2.feature_sweep(X_rf,Y,n_estimators=n_estimators,n_splits=n_splits,\n",
    "                                   n_features_list=n_features_list,model='rf',rfe=False,\n",
    "                                   max_features=max_features,max_depth=max_depth,min_samples_leaf=min_samples_leaf)\n",
    "    np.save('../../data/rs_forest_%d_%s' % (n_estimators,git_hash),rs_forest.data)"
   ]
  },
  {
   "cell_type": "markdown",
   "metadata": {
    "deletable": true,
    "editable": true
   },
   "source": [
    "### Load or compute the linear model"
   ]
  },
  {
   "cell_type": "code",
   "execution_count": null,
   "metadata": {
    "collapsed": false,
    "deletable": true,
    "editable": true
   },
   "outputs": [],
   "source": [
    "# Load or compute the feature ranks for the training set\n",
    "use_saved_linear_feature_ranks = False\n",
    "n_splits = 5#25\n",
    "if use_saved_linear_feature_ranks == 'Old':\n",
    "    lin_ranked = np.load('../../data/lin_ranked_rick.npy')\n",
    "elif type(use_saved_linear_feature_ranks) is str:\n",
    "    lin_ranked = np.load('../../data/lin_ranked_%s.npy' % use_saved_linear_feature_ranks)\n",
    "else:\n",
    "    # -1 is to leave out the leak feature\n",
    "    lin_ranked = fit2.compute_linear_feature_ranks_cv(X_lin,Y,n_resampling=10,n_splits=n_splits)\n",
    "    np.save('../../data/lin_ranked_%s' % git_hash,lin_ranked)"
   ]
  },
  {
   "cell_type": "code",
   "execution_count": null,
   "metadata": {
    "collapsed": false,
    "deletable": true,
    "editable": true
   },
   "outputs": [],
   "source": [
    "use_saved_lin_model = False\n",
    "n_splits = 5#100\n",
    "if use_saved_lin_model == 'Old':\n",
    "    rs_lin = np.load('../../data/rs_lin_rick_right.npy')\n",
    "    rs_lin = np.ma.array(rs_lin,mask=np.isnan(rs_lin))\n",
    "elif type(use_saved_lin_model) is str:\n",
    "    rs_lin = np.load('../../data/rs_lin_%s.npy' % use_saved_lin_model)\n",
    "else:\n",
    "    rs_lin = fit2.feature_sweep(X_lin,Y,n_splits=n_splits,model='ridge',rfe=False,\n",
    "                                n_features_list=n_features_list,alpha=10.0,lin_ranked=lin_ranked)\n",
    "    np.save('../../data/rs_lin_%s' % git_hash,rs_lin.data)"
   ]
  },
  {
   "cell_type": "markdown",
   "metadata": {
    "deletable": true,
    "editable": true
   },
   "source": [
    "## Figure 3c"
   ]
  },
  {
   "cell_type": "code",
   "execution_count": null,
   "metadata": {
    "collapsed": false,
    "deletable": true,
    "editable": true
   },
   "outputs": [],
   "source": [
    "from scipy.interpolate import interp1d\n",
    "\n",
    "# Plotting function\n",
    "def plot(forest,lin,n_features_list,labels=['forest','quadratic'],threshold=0.8):\n",
    "    fig,axes = plt.subplots(3,7,sharex=False,sharey=True,figsize=(20,10))\n",
    "    thresholds, thresh_locs = np.zeros(21), np.zeros(21)\n",
    "    n_features_list_new = np.logspace(0,4,1000)\n",
    "    for col in range(21):\n",
    "        curve = forest[col,:,:].mean(axis=1)\n",
    "        f = interp1d(n_features_list,curve)\n",
    "        curve = f(n_features_list_new)\n",
    "        thresholds[col] = max(curve[0],threshold*curve.max())\n",
    "        thresh_index = np.where(curve>thresholds[col])[0][0]\n",
    "        #print(col,thresh_index,len(n_features2),n_features2[thresh_index])\n",
    "        thresh_locs[col] = n_features_list_new[thresh_index]\n",
    "    ranks = np.argsort(thresh_locs)\n",
    "    forest[col,:,:].mean(axis=1)\n",
    "    for rank,ax in enumerate(axes.flat):\n",
    "        col = ranks[rank]\n",
    "        ax.errorbar(n_features_list,forest[col,:,:].mean(axis=1),forest[col,:,:].std(axis=1)/np.sqrt(n_splits),color='red',label=labels[0])\n",
    "        ax.errorbar(n_features_list,lin[col,:,:].mean(axis=1),lin[col,:,:].std(axis=1)/np.sqrt(n_splits),color='black',label=labels[1])\n",
    "        if col==0:\n",
    "            handles, labels = ax.get_legend_handles_labels()\n",
    "            lg = ax.legend(handles[0:], labels[0:], loc=4, fontsize=16)\n",
    "            lg.draw_frame(False)\n",
    "        ax.set_xlim(0.5,20000)\n",
    "        ax.set_ylim(0,0.8)\n",
    "        ax.set_yticks(np.linspace(0,0.6,4))\n",
    "        ax.set_yticklabels([_ for _ in np.linspace(0,0.6,4)],size=20)\n",
    "        ax.set_xticklabels(n_features_list,size=20)\n",
    "        ax.set_xscale('log')\n",
    "        ax.set_title(descriptors[col], size=25)\n",
    "        ax.plot([0,thresh_locs[col]],[thresholds[col],thresholds[col]],'b--')\n",
    "        ax.plot([thresh_locs[col],thresh_locs[col]],[0,thresholds[col]],'b--')\n",
    "        #break\n",
    "        print('%s: %.1f' % (descriptors[col],thresh_locs[col]))#,thresholds[col])\n",
    "    fig.text(0.5, 1.00, 'Threshold = %d%%' % (threshold*100), ha='center', size=25)\n",
    "    fig.text(0.5, -0.025, 'Number of features', ha='center', size=25)\n",
    "    fig.text(-0.02, 0.5, 'Correlation', va='center', rotation='vertical', size=25);\n",
    "    plt.tight_layout()"
   ]
  },
  {
   "cell_type": "code",
   "execution_count": null,
   "metadata": {
    "collapsed": false,
    "deletable": true,
    "editable": true
   },
   "outputs": [],
   "source": [
    "plot(rs_forest[:,:,:n_splits],rs_lin[:,:,:n_splits],n_features_list,labels=['forest','linear'],threshold=0.8)\n",
    "#plt.savefig('../../figures/forest_vs_features_%d.eps' % (0.8*100),format='eps',bbox_inches='tight',pad_inches=0.5)"
   ]
  },
  {
   "cell_type": "code",
   "execution_count": null,
   "metadata": {
    "collapsed": true
   },
   "outputs": [],
   "source": []
  }
 ],
 "metadata": {
  "kernelspec": {
   "display_name": "Python 3",
   "language": "python",
   "name": "python3"
  },
  "language_info": {
   "codemirror_mode": {
    "name": "ipython",
    "version": 3
   },
   "file_extension": ".py",
   "mimetype": "text/x-python",
   "name": "python",
   "nbconvert_exporter": "python",
   "pygments_lexer": "ipython3",
   "version": "3.5.2"
  }
 },
 "nbformat": 4,
 "nbformat_minor": 0
}
