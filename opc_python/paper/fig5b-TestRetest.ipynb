{
 "cells": [
  {
   "cell_type": "code",
   "execution_count": 21,
   "metadata": {
    "collapsed": false
   },
   "outputs": [],
   "source": [
    "%matplotlib inline\n",
    "%run __init__.py\n",
    "import pickle\n",
    "import warnings\n",
    "import numpy as np\n",
    "import matplotlib.pyplot as plt\n",
    "import pandas\n",
    "import utils\n",
    "from utils import loading, scoring\n",
    "from gerkin import dream,fit1,fit2,params"
   ]
  },
  {
   "cell_type": "code",
   "execution_count": 6,
   "metadata": {
    "collapsed": false
   },
   "outputs": [
    {
     "name": "stdout",
     "output_type": "stream",
     "text": [
      "Morgan has 2437 features for 476 molecules.\n",
      "There are now 7307 total features.\n"
     ]
    }
   ],
   "source": [
    "descriptors = loading.get_descriptors(format=True)\n",
    "letters = utils.letters\n",
    "all_CIDs = sorted(loading.get_CIDs('training')+loading.get_CIDs('leaderboard')+loading.get_CIDs('testset'))\n",
    "mdx_drag_morg = dream.get_molecular_data(['dragon','morgan'],all_CIDs)"
   ]
  },
  {
   "cell_type": "markdown",
   "metadata": {},
   "source": [
    "### Load data and parameters"
   ]
  },
  {
   "cell_type": "code",
   "execution_count": 7,
   "metadata": {
    "collapsed": false
   },
   "outputs": [
    {
     "name": "stdout",
     "output_type": "stream",
     "text": [
      "The X matrix now has shape (774x5497) molecules by non-NaN good molecular descriptors\n",
      "The X matrix now has shape (20x5497) molecules by non-NaN good molecular descriptors\n",
      "The X matrix now has shape (15x5497) molecules by non-NaN good molecular descriptors\n"
     ]
    }
   ],
   "source": [
    "# Create the training data (non-replicated molecules)\n",
    "X_train,good1,good2,means,stds,imputer = dream.make_X(mdx_drag_morg,['training-norep','leaderboard'])\n",
    "\n",
    "# Create the testing data (replicated molecules); intensity separate from all other descriptors\n",
    "X_test_other,good1,good2,means,stds,imputer = dream.make_X(mdx_drag_morg,\"replicated\",target_dilution='high',good1=good1,good2=good2,means=means,stds=stds)\n",
    "X_test_int,good1,good2,means,stds,imputer = dream.make_X(mdx_drag_morg,\"replicated\",target_dilution=-3,good1=good1,good2=good2,means=means,stds=stds)"
   ]
  },
  {
   "cell_type": "code",
   "execution_count": 27,
   "metadata": {
    "collapsed": false
   },
   "outputs": [
    {
     "name": "stdout",
     "output_type": "stream",
     "text": [
      "The X matrix now has shape (774x14614) molecules by non-NaN good molecular descriptors\n",
      "The X matrix now has shape (20x14614) molecules by non-NaN good molecular descriptors\n",
      "The X matrix now has shape (15x14614) molecules by non-NaN good molecular descriptors\n"
     ]
    }
   ],
   "source": [
    "# Same as above, but preparing data for the linear model\n",
    "X_train_lin = dream.quad_prep(mdx_drag_morg,sets=['training-norep','leaderboard'])\n",
    "X_test_lin_other = dream.quad_prep(mdx_drag_morg,sets='replicated',dilution='high')\n",
    "X_test_lin_int = dream.quad_prep(mdx_drag_morg,sets='replicated',dilution=-3)"
   ]
  },
  {
   "cell_type": "code",
   "execution_count": 13,
   "metadata": {
    "collapsed": false
   },
   "outputs": [
    {
     "name": "stdout",
     "output_type": "stream",
     "text": [
      "The Y['mean_std'] matrix now has shape (774x42) molecules by 2 x perceptual descriptors\n",
      "The Y['subject'] dict now has 49 matrices of shape (774x21) molecules by perceptual descriptors, one for each subject\n",
      "The Y['mean_std'] matrix now has shape (774x42) molecules by 2 x perceptual descriptors\n",
      "The Y['subject'] dict now has 49 matrices of shape (774x21) molecules by perceptual descriptors, one for each subject\n"
     ]
    }
   ],
   "source": [
    "# Create descriptor matrices for the training set.  \n",
    "# One is done with median imputation, and the other by masking missing values.  \n",
    "Y_train_imp,imputer = dream.make_Y_obs(['training-norep','leaderboard'],target_dilution=None,imputer='median')\n",
    "Y_train_mask,imputer = dream.make_Y_obs(['training-norep','leaderboard'],target_dilution=None,imputer='mask')"
   ]
  },
  {
   "cell_type": "code",
   "execution_count": 14,
   "metadata": {
    "collapsed": false
   },
   "outputs": [
    {
     "name": "stdout",
     "output_type": "stream",
     "text": [
      "The Y['mean_std'] matrix now has shape (20x42) molecules by 2 x perceptual descriptors\n",
      "The Y['subject'] dict now has 49 matrices of shape (20x21) molecules by perceptual descriptors, one for each subject\n",
      "The Y['mean_std'] matrix now has shape (15x42) molecules by 2 x perceptual descriptors\n",
      "The Y['subject'] dict now has 49 matrices of shape (15x21) molecules by perceptual descriptors, one for each subject\n"
     ]
    }
   ],
   "source": [
    "# Create descriptor matrices for the leaderboard set.  \n",
    "# One is done with median imputation, and the other with no imputation \n",
    "Y_test_other,imputer = dream.make_Y_obs('replicated',target_dilution='high',imputer='mask')\n",
    "Y_test_int,imputer = dream.make_Y_obs('replicated',target_dilution=-3,imputer='mask')"
   ]
  },
  {
   "cell_type": "code",
   "execution_count": 15,
   "metadata": {
    "collapsed": false
   },
   "outputs": [],
   "source": [
    "# Load optimal parameters (from cross-validation) for random forest model\n",
    "trans_params = params.get_trans_params(Y_train_mask, descriptors, plot=False)\n",
    "use_et, max_features, max_depth, min_samples_leaf, trans_weight, regularize, use_mask = params.get_other_params()"
   ]
  },
  {
   "cell_type": "code",
   "execution_count": 19,
   "metadata": {
    "collapsed": true
   },
   "outputs": [],
   "source": [
    "# Load the data into a n_subjects x n_molecules x n_descriptors x n_dilutions x n_replications matrix.  \n",
    "# This is masked so only gold standard (1/1000 for intensity, high for every other descriptor) is visible, \n",
    "# and only for the 20 replicated molecules.  Every other entry is masked and will not affect any calculation.  \n",
    "data = loading.load_data_matrix(gold_standard_only=True, only_replicates=True)\n",
    "\n",
    "# Indices of the replicated molecules\n",
    "rep_indices = np.where(data[0,:,1,:,0].mean(axis=1).mask == False)[0]"
   ]
  },
  {
   "cell_type": "code",
   "execution_count": 20,
   "metadata": {
    "collapsed": false
   },
   "outputs": [],
   "source": [
    "# Create a mask to indicate which molecules have intensity values at 1/1000 dilution\n",
    "CIDs_with_1000fold = [int(x.split('_')[0]) for x in loading.get_CID_dilutions('replicated') if '-3' in x]\n",
    "CIDs = loading.get_CIDs('replicated')\n",
    "intensity_mask = [i for i,x in enumerate(CIDs) if x in CIDs_with_1000fold]"
   ]
  },
  {
   "cell_type": "markdown",
   "metadata": {},
   "source": [
    "### Load or run random forest model"
   ]
  },
  {
   "cell_type": "code",
   "execution_count": 28,
   "metadata": {
    "collapsed": false
   },
   "outputs": [],
   "source": [
    "use_saved_rf_model = True\n",
    "if use_saved_rf_model:\n",
    "    with open('../../data/rfcs_norep_1.pickle','rb') as f:\n",
    "        rfcs_norep_1 = pickle.load(f)\n",
    "else:\n",
    "    n_estimators = 25\n",
    "    rfcs_norep_1,score_1,rs_1 = fit1.rfc_final(X_train,Y_train_imp['subject'],\n",
    "                                max_features,min_samples_leaf,max_depth,use_et,regularize,\n",
    "                                n_estimators=n_estimators)\n",
    "    with open('../../data/rfcs_norep_1.pickle','wb') as f:\n",
    "        pickle.dump(rfcs_norep_1,f)"
   ]
  },
  {
   "cell_type": "code",
   "execution_count": 40,
   "metadata": {
    "collapsed": false
   },
   "outputs": [],
   "source": [
    "# Use the model to create the prediction arrays\n",
    "Y_pred_dec = loading.make_prediction_files(rfcs_norep_1,X_test_int,X_test_other,\n",
    "                                         'replicated',1,intensity_mask=intensity_mask,Y_test=None,\n",
    "                                          write=False,regularize=regularize)"
   ]
  },
  {
   "cell_type": "code",
   "execution_count": 41,
   "metadata": {
    "collapsed": false
   },
   "outputs": [
    {
     "data": {
      "text/plain": [
       "'Score: 29.384339; rs = 0.389,0.408,0.186'"
      ]
     },
     "execution_count": 41,
     "metadata": {},
     "output_type": "execute_result"
    }
   ],
   "source": [
    "# Turn the prediction arrays into a single 3D prediction array\n",
    "\n",
    "y_pred_dec = np.ma.dstack([Y_pred_dec['subject'][i] for i in range(1,50)])\n",
    "y_obs_1 = np.ma.dstack([Y_test_other['subject'][i] for i in range(1,50)])\n",
    "y_obs_1.mask[:,0,:] = True\n",
    "\n",
    "# There are 20 replications for the high concentration, but only 15 for the 1/1000\n",
    "# concentration, so these have to be computed separately.  \n",
    "for i in range(49):\n",
    "    y_obs_1[intensity_mask,0,i] = Y_test_int['subject'][i+1][:,0]\n",
    "\n",
    "# Print a summary of the prediction quality\n",
    "scoring.score_summary(y_pred_dec,y_obs_1,mask=True)"
   ]
  },
  {
   "cell_type": "markdown",
   "metadata": {},
   "source": [
    "### Linear (Quadratic) model"
   ]
  },
  {
   "cell_type": "code",
   "execution_count": 34,
   "metadata": {
    "collapsed": false
   },
   "outputs": [
    {
     "name": "stdout",
     "output_type": "stream",
     "text": [
      "Computing feature ranks for descriptor #0\n",
      "Computing feature ranks for descriptor #1\n",
      "Computing feature ranks for descriptor #2\n",
      "Computing feature ranks for descriptor #3\n",
      "Computing feature ranks for descriptor #4\n",
      "Computing feature ranks for descriptor #5\n",
      "Computing feature ranks for descriptor #6\n",
      "Computing feature ranks for descriptor #7\n",
      "Computing feature ranks for descriptor #8\n",
      "Computing feature ranks for descriptor #9\n",
      "Computing feature ranks for descriptor #10\n",
      "Computing feature ranks for descriptor #11\n",
      "Computing feature ranks for descriptor #12\n",
      "Computing feature ranks for descriptor #13\n",
      "Computing feature ranks for descriptor #14\n",
      "Computing feature ranks for descriptor #15\n",
      "Computing feature ranks for descriptor #16\n",
      "Computing feature ranks for descriptor #17\n",
      "Computing feature ranks for descriptor #18\n",
      "Computing feature ranks for descriptor #19\n",
      "Computing feature ranks for descriptor #20\n"
     ]
    }
   ],
   "source": [
    "# Load or compute the feature ranks for the training set\n",
    "use_saved_linear_feature_ranks = False\n",
    "if use_saved_linear_feature_ranks:\n",
    "    lin_ranked = np.load('../../data/lin_ranked_test_retest.npy')\n",
    "else:\n",
    "    # -1 is to leave out the leak feature\n",
    "    lin_ranked = fit1.compute_linear_feature_ranks(X_train_lin[:,:-1],Y_train_mask['mean_std'],n_resampling=10)\n",
    "    np.save('../../data/lin_ranked_test_retest',lin_ranked)"
   ]
  },
  {
   "cell_type": "code",
   "execution_count": 90,
   "metadata": {
    "collapsed": false
   },
   "outputs": [],
   "source": [
    "# Run the linear model (fast)\n",
    "y_pred_lin = fit2.compute_linear_predictions(X_train_lin,X_test_lin_int,X_test_lin_other,Y_train_imp,\n",
    "                                lin_ranked,alpha=10.0,max_features=1000)"
   ]
  },
  {
   "cell_type": "markdown",
   "metadata": {},
   "source": [
    "### Make a consensus model and then compute correlations"
   ]
  },
  {
   "cell_type": "code",
   "execution_count": 91,
   "metadata": {
    "collapsed": true
   },
   "outputs": [],
   "source": [
    "# Use an average of the two models as the prediction\n",
    "y_pred = (y_pred_dec + y_pred_lin)/2"
   ]
  },
  {
   "cell_type": "code",
   "execution_count": 92,
   "metadata": {
    "collapsed": false
   },
   "outputs": [],
   "source": [
    "# Compute model/test correlations and test/retest correlations\n",
    "\n",
    "# Extract the indices of the 20 replicated molecules.  \n",
    "rep_indices = np.where(data[0,:,1,:,0].mean(axis=1).mask == False)[0]\n",
    "\n",
    "# Subchallenge 1: Jacknife samples of the Coefficients of Error.\n",
    "sc1_cv = np.empty(21) # Empty array of length 21.  Will hold Model vs. Test\n",
    "trt1_cv = np.empty(21) # Empty array of length 21.  Will hold Test vs Retest\n",
    "\n",
    "for d in range(21): # Iterate over each descriptor.  \n",
    "    mses_sc1 = np.ma.masked_all(49) # Empty masked array to hold model vs test correlations for each the 49 subjects.  \n",
    "    mses_trt = np.ma.masked_all(49) # Empty masked array to hold test vs retest correlations for each the 49 subjects.  \n",
    "    for s in range(49): # Iterate over subjects.  \n",
    "        o = data[s,rep_indices,d,:,0] # Select test (first trial values) for the replicated molecules.  \n",
    "        r = data[s,rep_indices,d,:,1] # Select retest (first trial values) for the replicated molecules.  \n",
    "        o = o.mean(axis=1) # Collapse the dilution dimension.  All non-gold standard dilutions are masked anyway.  \n",
    "        r = r.mean(axis=1) # Collapse the dilution dimension. All non-gold standard dilutions are masked anyway.  \n",
    "        p = y_pred[:,d,s] # Select the predicted values for the same molecules. (y_pred_1 has those 20 molecules)  \n",
    "        \n",
    "        # To avoid biasing towards test or retest, compute the length-40 vector of concatenated test and retest\n",
    "        # values for this subject/descriptor.  Compute correlated of corresponding length-40 vector which just has\n",
    "        # the 20 predicted values listed twice.  \n",
    "        mses_sc1[s] = np.ma.corrcoef(np.ma.concatenate((o,r)),\n",
    "                                     np.ma.concatenate((p,p)))[0,1]\n",
    "        \n",
    "        # Now compute correlation between test and retest.  \n",
    "        mses_trt[s] = np.ma.corrcoef(o,r)[0,1]\n",
    "    \n",
    "    # Compute the mean across subjects of these within-subject correlations.\n",
    "    sc1_cv[d] = mses_sc1.mean()\n",
    "    trt1_cv[d] = mses_trt.mean()"
   ]
  },
  {
   "cell_type": "code",
   "execution_count": 76,
   "metadata": {
    "collapsed": false
   },
   "outputs": [],
   "source": [
    "# Same as above, but to compute jacknife samples to get error bars.\n",
    "\n",
    "sc1_cv_jn = np.ma.empty((21,20)) # Empty masked array of length 21.  Model vs. Test\n",
    "trt1_cv_jn = np.ma.empty((21,20)) # Empty masked array of length 21.  Test vs Retest\n",
    "\n",
    "for d in range(21):\n",
    "    dil = slice(None)#1 if d==0 else slice(None)\n",
    "    for i in range(20):\n",
    "        indices = [j for j in range(20) if j!=i]\n",
    "        mses_sc1 = np.ma.masked_all(49)\n",
    "        mses_trt = np.ma.masked_all(49)\n",
    "        for s in range(49):\n",
    "            o = data[s,rep_indices,d,dil,0]\n",
    "            r = data[s,rep_indices,d,dil,1]\n",
    "            o = o.mean(axis=1) # Collapse the dilution dimension\n",
    "            r = r.mean(axis=1) # Collapse the dilution dimension\n",
    "            p = y_pred[:,d,s]\n",
    "            \n",
    "            if not o.mask[i]:\n",
    "                mses_sc1[s] = np.ma.corrcoef(np.ma.concatenate((o[indices],r[indices])),\n",
    "                                             np.ma.concatenate((p[indices],p[indices])))[0,1]\n",
    "                mses_trt[s] = np.ma.corrcoef(o[indices],r[indices])[0,1]\n",
    "\n",
    "        sc1_cv_jn[d,i] = mses_sc1.mean()\n",
    "        trt1_cv_jn[d,i] = mses_trt.mean()"
   ]
  },
  {
   "cell_type": "code",
   "execution_count": 75,
   "metadata": {
    "collapsed": false
   },
   "outputs": [],
   "source": [
    "# Make sure that means of jackknife samples are approximately equal to directly computed means\n",
    "assert np.allclose(sc1_cv,sc1_cv_jn.mean(axis=1),atol=0.05)\n",
    "assert np.allclose(trt1_cv,trt1_cv_jn.mean(axis=1),atol=0.05)"
   ]
  },
  {
   "cell_type": "code",
   "execution_count": 86,
   "metadata": {
    "collapsed": true
   },
   "outputs": [],
   "source": [
    "# Code for plotting the test-retest plot\n",
    "def plot_r(sc_mean,trt_mean,subchallenge,sc_err=None,trt_err=None,scale='auto'):\n",
    "    plt.figure(figsize=(12,12))\n",
    "    x = np.linspace(-1,1,100)\n",
    "    plt.plot(x,x,'--',c='r',linewidth=4)\n",
    "    plt.errorbar(trt_mean,sc_mean,xerr=trt_err,yerr=sc_err,c='white',ecolor='black',fmt='o',markersize=15)  \n",
    "    plt.xlabel('Test-Retest Correlation',size=30)\n",
    "    plt.ylabel('Model-Test Correlation',size=30)\n",
    "    plt.xlim(0,0.7)\n",
    "    plt.ylim(0,0.7)\n",
    "    from scipy.stats import linregress, ttest_rel\n",
    "    _,p = ttest_rel(sc_mean,trt_mean)\n",
    "    r = np.corrcoef(sc_mean,trt_mean)[0,1]\n",
    "    z = np.zeros(100) # Add 0's for stablility\n",
    "    coefs = linregress(np.concatenate((z,trt_mean)),np.concatenate((z,sc_mean))) # Zeros force the intercept to be zero\n",
    "    plt.plot(x,x*coefs.slope + coefs.intercept,'-',c='k')\n",
    "    plt.text(0.4,0.01,'r = %.3f\\nslope = %.2f+/-%.2f' % (r,coefs.slope,coefs.stderr),size=22)\n",
    "    for i in range(21):\n",
    "        plt.text(trt_mean[i],sc_mean[i],letters[i],fontdict={'color':'blue','size':12,'weight':'bold'},\n",
    "                 horizontalalignment='center',verticalalignment='center')"
   ]
  },
  {
   "cell_type": "markdown",
   "metadata": {},
   "source": [
    "## Fig. 5B"
   ]
  },
  {
   "cell_type": "code",
   "execution_count": 93,
   "metadata": {
    "collapsed": false
   },
   "outputs": [
    {
     "data": {
      "image/png": "[encoded data removed]",
      "text/plain": [
       "<matplotlib.figure.Figure at 0x1110f88d0>"
      ]
     },
     "metadata": {},
     "output_type": "display_data"
    }
   ],
   "source": [
    "plot_r(sc1_cv_jn.mean(axis=1),trt1_cv_jn.mean(axis=1),1,sc_err=sc1_cv_jn.std(axis=1),trt_err=trt1_cv_jn.std(axis=1))\n",
    "plt.savefig('../../figures/test-retest.eps',format='eps')"
   ]
  },
  {
   "cell_type": "code",
   "execution_count": 94,
   "metadata": {
    "collapsed": false
   },
   "outputs": [
    {
     "name": "stdout",
     "output_type": "stream",
     "text": [
      "Intensity: 0.5636 \n",
      "Pleasantness: 0.5028 \n",
      "Bakery: 0.0651 \n",
      "Sweet: 0.5956 \n",
      "Fruit: 0.5134 \n",
      "Fish: 0.4969 \n",
      "Garlic: 0.5054 \n",
      "Spices: 0.9140 \n",
      "Cold: 0.6075 \n",
      "Sour: 0.8778 \n",
      "Burnt: 0.0433 *\n",
      "Acid: 0.8758 \n",
      "Warm: 0.8847 \n",
      "Musky: 0.1408 \n",
      "Sweaty: 0.4731 \n",
      "Ammonia: 0.5782 \n",
      "Decayed: 0.5805 \n",
      "Wood: 0.5514 \n",
      "Grass: 0.6606 \n",
      "Flower: 0.0824 \n",
      "Chemical: 0.5406 \n",
      "Pooled p = 0.00155\n",
      "Pooled p = 0.00306 (ignoring intensity)\n",
      "Pooled p = 0.00525 (ignoring intensity and pleasantness)\n"
     ]
    }
   ],
   "source": [
    "# p-values for each of the points in the plot\n",
    "# Compared against the null-hypothesis that they are on the line\n",
    "from scipy.stats import multivariate_normal,chi2\n",
    "n_rvs = 1000000\n",
    "ps = np.zeros(21)\n",
    "for d in range(21):\n",
    "    rvs = multivariate_normal.rvs([sc1_cv_jn.mean(axis=1)[d],trt1_cv_jn.mean(axis=1)[d]],\n",
    "                                  [[sc1_cv_jn.std(axis=1)[d]**2,0],\n",
    "                                   [0,trt1_cv_jn.std(axis=1)[d]**2]],\n",
    "                                  n_rvs)\n",
    "    ps[d] = ((rvs[:,1] - rvs[:,0]) < 0).sum()/n_rvs\n",
    "ps_fdr = np.zeros(21)\n",
    "for d in range(21):\n",
    "    ps_fdr[d] = ps[d] * 21 / (1+list(np.argsort(ps)).index(d))\n",
    "    if ps_fdr[d] < 0.001: \n",
    "        stars = '***'\n",
    "    elif ps_fdr[d] < 0.01: \n",
    "        stars = '**'\n",
    "    elif ps_fdr[d] < 0.05: \n",
    "        stars = '*'\n",
    "    else:\n",
    "        stars = ''\n",
    "    print(\"%s: %.4f %s\" % (descriptors[d],ps_fdr[d],stars))\n",
    "    #print(\"%s: %.4f (%.4f) %s\" % (descriptors[d],ps[d],ps_fdr[d],stars))\n",
    "\n",
    "fisher = -np.log(ps).sum()*2\n",
    "print(\"Pooled p = %.3g\" % (1-chi2.cdf(fisher,42)))\n",
    "\n",
    "fisher = -np.log(ps[1:]).sum()*2\n",
    "print(\"Pooled p = %.3g (ignoring intensity)\" % (1-chi2.cdf(fisher,42)))\n",
    "\n",
    "fisher = -np.log(ps[2:]).sum()*2\n",
    "print(\"Pooled p = %.3g (ignoring intensity and pleasantness)\" % (1-chi2.cdf(fisher,42)))"
   ]
  },
  {
   "cell_type": "code",
   "execution_count": null,
   "metadata": {
    "collapsed": true
   },
   "outputs": [],
   "source": []
  }
 ],
 "metadata": {
  "kernelspec": {
   "display_name": "Python 3",
   "language": "python",
   "name": "python3"
  },
  "language_info": {
   "codemirror_mode": {
    "name": "ipython",
    "version": 3
   },
   "file_extension": ".py",
   "mimetype": "text/x-python",
   "name": "python",
   "nbconvert_exporter": "python",
   "pygments_lexer": "ipython3",
   "version": "3.4.1"
  }
 },
 "nbformat": 4,
 "nbformat_minor": 0
}
